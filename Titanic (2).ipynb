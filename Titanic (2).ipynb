{
  "nbformat": 4,
  "nbformat_minor": 0,
  "metadata": {
    "colab": {
      "name": "我是鬼.ipynb",
      "provenance": [],
      "collapsed_sections": [
        "6Zlb9v79jYnu",
        "eYY2dS2Qj5Uv",
        "boUVhV-1kbAU",
        "p9IDMO5slnJK",
        "QYxdkFtAsBPj",
        "8FbYSJUxsgEI",
        "svCf9I7_wYyU",
        "EyVhxnkI24yI"
      ]
    },
    "kernelspec": {
      "name": "python3",
      "display_name": "Python 3"
    }
  },
  "cells": [
    {
      "cell_type": "markdown",
      "metadata": {
        "id": "IazIBKneioS8"
      },
      "source": [
        "[連結文字](https://)# 讀取資料跟匯入相關套件"
      ]
    },
    {
      "cell_type": "code",
      "metadata": {
        "id": "KzHMp2nMYADm"
      },
      "source": [
        "#pip install sklearn\r\n",
        "import pandas as pd\r\n",
        "import numpy as np\r\n",
        "\r\n",
        "# 繪圖相關套件\r\n",
        "import matplotlib.pyplot as plt\r\n",
        "%matplotlib inline\r\n",
        "import matplotlib.gridspec as gridspec\r\n",
        "import seaborn as sns\r\n",
        "plt.style.use( 'ggplot' ) \r\n",
        "\r\n",
        "# 標籤編碼(Label)、獨熱編碼(OneHot)\r\n",
        "from sklearn.preprocessing import LabelEncoder, OneHotEncoder \r\n",
        "# 決策樹(Decision Tree)\r\n",
        "from sklearn.tree import DecisionTreeClassifier\r\n",
        "# 隨機森林(Random Forest)\r\n",
        "from sklearn.ensemble import RandomForestClassifier\r\n",
        "#Logistic\r\n",
        "from sklearn.linear_model import LogisticRegression\r\n",
        "\r\n",
        "from IPython.display import display\r\n",
        "import warnings\r\n",
        "warnings.filterwarnings( 'ignore' )"
      ],
      "execution_count": null,
      "outputs": []
    },
    {
      "cell_type": "code",
      "metadata": {
        "colab": {
          "base_uri": "https://localhost:8080/",
          "height": 439
        },
        "id": "xpU7AuwWYJTz",
        "outputId": "15aae090-e6d9-430b-b0c3-a74c88e964bf"
      },
      "source": [
        "train = pd.read_csv('train.csv')\r\n",
        "test = pd.read_csv('test.csv')\r\n",
        "\r\n",
        "print( f'train {train.shape}' ) #f-string {}內填入替換的字串\r\n",
        "display( train.head() )\r\n",
        "\r\n",
        "print( f'\\ntest {test.shape}' )\r\n",
        "display( test.head() )"
      ],
      "execution_count": null,
      "outputs": [
        {
          "output_type": "stream",
          "text": [
            "train (891, 12)\n"
          ],
          "name": "stdout"
        },
        {
          "output_type": "display_data",
          "data": {
            "text/html": [
              "<div>\n",
              "<style scoped>\n",
              "    .dataframe tbody tr th:only-of-type {\n",
              "        vertical-align: middle;\n",
              "    }\n",
              "\n",
              "    .dataframe tbody tr th {\n",
              "        vertical-align: top;\n",
              "    }\n",
              "\n",
              "    .dataframe thead th {\n",
              "        text-align: right;\n",
              "    }\n",
              "</style>\n",
              "<table border=\"1\" class=\"dataframe\">\n",
              "  <thead>\n",
              "    <tr style=\"text-align: right;\">\n",
              "      <th></th>\n",
              "      <th>PassengerId</th>\n",
              "      <th>Survived</th>\n",
              "      <th>Pclass</th>\n",
              "      <th>Name</th>\n",
              "      <th>Sex</th>\n",
              "      <th>Age</th>\n",
              "      <th>SibSp</th>\n",
              "      <th>Parch</th>\n",
              "      <th>Ticket</th>\n",
              "      <th>Fare</th>\n",
              "      <th>Cabin</th>\n",
              "      <th>Embarked</th>\n",
              "    </tr>\n",
              "  </thead>\n",
              "  <tbody>\n",
              "    <tr>\n",
              "      <th>0</th>\n",
              "      <td>1</td>\n",
              "      <td>0</td>\n",
              "      <td>3</td>\n",
              "      <td>Braund, Mr. Owen Harris</td>\n",
              "      <td>male</td>\n",
              "      <td>22.0</td>\n",
              "      <td>1</td>\n",
              "      <td>0</td>\n",
              "      <td>A/5 21171</td>\n",
              "      <td>7.2500</td>\n",
              "      <td>NaN</td>\n",
              "      <td>S</td>\n",
              "    </tr>\n",
              "    <tr>\n",
              "      <th>1</th>\n",
              "      <td>2</td>\n",
              "      <td>1</td>\n",
              "      <td>1</td>\n",
              "      <td>Cumings, Mrs. John Bradley (Florence Briggs Th...</td>\n",
              "      <td>female</td>\n",
              "      <td>38.0</td>\n",
              "      <td>1</td>\n",
              "      <td>0</td>\n",
              "      <td>PC 17599</td>\n",
              "      <td>71.2833</td>\n",
              "      <td>C85</td>\n",
              "      <td>C</td>\n",
              "    </tr>\n",
              "    <tr>\n",
              "      <th>2</th>\n",
              "      <td>3</td>\n",
              "      <td>1</td>\n",
              "      <td>3</td>\n",
              "      <td>Heikkinen, Miss. Laina</td>\n",
              "      <td>female</td>\n",
              "      <td>26.0</td>\n",
              "      <td>0</td>\n",
              "      <td>0</td>\n",
              "      <td>STON/O2. 3101282</td>\n",
              "      <td>7.9250</td>\n",
              "      <td>NaN</td>\n",
              "      <td>S</td>\n",
              "    </tr>\n",
              "    <tr>\n",
              "      <th>3</th>\n",
              "      <td>4</td>\n",
              "      <td>1</td>\n",
              "      <td>1</td>\n",
              "      <td>Futrelle, Mrs. Jacques Heath (Lily May Peel)</td>\n",
              "      <td>female</td>\n",
              "      <td>35.0</td>\n",
              "      <td>1</td>\n",
              "      <td>0</td>\n",
              "      <td>113803</td>\n",
              "      <td>53.1000</td>\n",
              "      <td>C123</td>\n",
              "      <td>S</td>\n",
              "    </tr>\n",
              "    <tr>\n",
              "      <th>4</th>\n",
              "      <td>5</td>\n",
              "      <td>0</td>\n",
              "      <td>3</td>\n",
              "      <td>Allen, Mr. William Henry</td>\n",
              "      <td>male</td>\n",
              "      <td>35.0</td>\n",
              "      <td>0</td>\n",
              "      <td>0</td>\n",
              "      <td>373450</td>\n",
              "      <td>8.0500</td>\n",
              "      <td>NaN</td>\n",
              "      <td>S</td>\n",
              "    </tr>\n",
              "  </tbody>\n",
              "</table>\n",
              "</div>"
            ],
            "text/plain": [
              "   PassengerId  Survived  Pclass  ...     Fare Cabin  Embarked\n",
              "0            1         0       3  ...   7.2500   NaN         S\n",
              "1            2         1       1  ...  71.2833   C85         C\n",
              "2            3         1       3  ...   7.9250   NaN         S\n",
              "3            4         1       1  ...  53.1000  C123         S\n",
              "4            5         0       3  ...   8.0500   NaN         S\n",
              "\n",
              "[5 rows x 12 columns]"
            ]
          },
          "metadata": {
            "tags": []
          }
        },
        {
          "output_type": "stream",
          "text": [
            "\n",
            "test (418, 11)\n"
          ],
          "name": "stdout"
        },
        {
          "output_type": "display_data",
          "data": {
            "text/html": [
              "<div>\n",
              "<style scoped>\n",
              "    .dataframe tbody tr th:only-of-type {\n",
              "        vertical-align: middle;\n",
              "    }\n",
              "\n",
              "    .dataframe tbody tr th {\n",
              "        vertical-align: top;\n",
              "    }\n",
              "\n",
              "    .dataframe thead th {\n",
              "        text-align: right;\n",
              "    }\n",
              "</style>\n",
              "<table border=\"1\" class=\"dataframe\">\n",
              "  <thead>\n",
              "    <tr style=\"text-align: right;\">\n",
              "      <th></th>\n",
              "      <th>PassengerId</th>\n",
              "      <th>Pclass</th>\n",
              "      <th>Name</th>\n",
              "      <th>Sex</th>\n",
              "      <th>Age</th>\n",
              "      <th>SibSp</th>\n",
              "      <th>Parch</th>\n",
              "      <th>Ticket</th>\n",
              "      <th>Fare</th>\n",
              "      <th>Cabin</th>\n",
              "      <th>Embarked</th>\n",
              "    </tr>\n",
              "  </thead>\n",
              "  <tbody>\n",
              "    <tr>\n",
              "      <th>0</th>\n",
              "      <td>892</td>\n",
              "      <td>3</td>\n",
              "      <td>Kelly, Mr. James</td>\n",
              "      <td>male</td>\n",
              "      <td>34.5</td>\n",
              "      <td>0</td>\n",
              "      <td>0</td>\n",
              "      <td>330911</td>\n",
              "      <td>7.8292</td>\n",
              "      <td>NaN</td>\n",
              "      <td>Q</td>\n",
              "    </tr>\n",
              "    <tr>\n",
              "      <th>1</th>\n",
              "      <td>893</td>\n",
              "      <td>3</td>\n",
              "      <td>Wilkes, Mrs. James (Ellen Needs)</td>\n",
              "      <td>female</td>\n",
              "      <td>47.0</td>\n",
              "      <td>1</td>\n",
              "      <td>0</td>\n",
              "      <td>363272</td>\n",
              "      <td>7.0000</td>\n",
              "      <td>NaN</td>\n",
              "      <td>S</td>\n",
              "    </tr>\n",
              "    <tr>\n",
              "      <th>2</th>\n",
              "      <td>894</td>\n",
              "      <td>2</td>\n",
              "      <td>Myles, Mr. Thomas Francis</td>\n",
              "      <td>male</td>\n",
              "      <td>62.0</td>\n",
              "      <td>0</td>\n",
              "      <td>0</td>\n",
              "      <td>240276</td>\n",
              "      <td>9.6875</td>\n",
              "      <td>NaN</td>\n",
              "      <td>Q</td>\n",
              "    </tr>\n",
              "    <tr>\n",
              "      <th>3</th>\n",
              "      <td>895</td>\n",
              "      <td>3</td>\n",
              "      <td>Wirz, Mr. Albert</td>\n",
              "      <td>male</td>\n",
              "      <td>27.0</td>\n",
              "      <td>0</td>\n",
              "      <td>0</td>\n",
              "      <td>315154</td>\n",
              "      <td>8.6625</td>\n",
              "      <td>NaN</td>\n",
              "      <td>S</td>\n",
              "    </tr>\n",
              "    <tr>\n",
              "      <th>4</th>\n",
              "      <td>896</td>\n",
              "      <td>3</td>\n",
              "      <td>Hirvonen, Mrs. Alexander (Helga E Lindqvist)</td>\n",
              "      <td>female</td>\n",
              "      <td>22.0</td>\n",
              "      <td>1</td>\n",
              "      <td>1</td>\n",
              "      <td>3101298</td>\n",
              "      <td>12.2875</td>\n",
              "      <td>NaN</td>\n",
              "      <td>S</td>\n",
              "    </tr>\n",
              "  </tbody>\n",
              "</table>\n",
              "</div>"
            ],
            "text/plain": [
              "   PassengerId  Pclass  ... Cabin Embarked\n",
              "0          892       3  ...   NaN        Q\n",
              "1          893       3  ...   NaN        S\n",
              "2          894       2  ...   NaN        Q\n",
              "3          895       3  ...   NaN        S\n",
              "4          896       3  ...   NaN        S\n",
              "\n",
              "[5 rows x 11 columns]"
            ]
          },
          "metadata": {
            "tags": []
          }
        }
      ]
    },
    {
      "cell_type": "markdown",
      "metadata": {
        "id": "C_WGkWxEYOdL"
      },
      "source": [
        "合併train和test"
      ]
    },
    {
      "cell_type": "code",
      "metadata": {
        "colab": {
          "base_uri": "https://localhost:8080/",
          "height": 415
        },
        "id": "hs063e22YG5O",
        "outputId": "42046f92-1571-4efe-b476-e7df66affc44"
      },
      "source": [
        "df_data = train.append(test)\r\n",
        "df_data\r\n"
      ],
      "execution_count": null,
      "outputs": [
        {
          "output_type": "execute_result",
          "data": {
            "text/html": [
              "<div>\n",
              "<style scoped>\n",
              "    .dataframe tbody tr th:only-of-type {\n",
              "        vertical-align: middle;\n",
              "    }\n",
              "\n",
              "    .dataframe tbody tr th {\n",
              "        vertical-align: top;\n",
              "    }\n",
              "\n",
              "    .dataframe thead th {\n",
              "        text-align: right;\n",
              "    }\n",
              "</style>\n",
              "<table border=\"1\" class=\"dataframe\">\n",
              "  <thead>\n",
              "    <tr style=\"text-align: right;\">\n",
              "      <th></th>\n",
              "      <th>PassengerId</th>\n",
              "      <th>Survived</th>\n",
              "      <th>Pclass</th>\n",
              "      <th>Name</th>\n",
              "      <th>Sex</th>\n",
              "      <th>Age</th>\n",
              "      <th>SibSp</th>\n",
              "      <th>Parch</th>\n",
              "      <th>Ticket</th>\n",
              "      <th>Fare</th>\n",
              "      <th>Cabin</th>\n",
              "      <th>Embarked</th>\n",
              "    </tr>\n",
              "  </thead>\n",
              "  <tbody>\n",
              "    <tr>\n",
              "      <th>0</th>\n",
              "      <td>1</td>\n",
              "      <td>0.0</td>\n",
              "      <td>3</td>\n",
              "      <td>Braund, Mr. Owen Harris</td>\n",
              "      <td>male</td>\n",
              "      <td>22.0</td>\n",
              "      <td>1</td>\n",
              "      <td>0</td>\n",
              "      <td>A/5 21171</td>\n",
              "      <td>7.2500</td>\n",
              "      <td>NaN</td>\n",
              "      <td>S</td>\n",
              "    </tr>\n",
              "    <tr>\n",
              "      <th>1</th>\n",
              "      <td>2</td>\n",
              "      <td>1.0</td>\n",
              "      <td>1</td>\n",
              "      <td>Cumings, Mrs. John Bradley (Florence Briggs Th...</td>\n",
              "      <td>female</td>\n",
              "      <td>38.0</td>\n",
              "      <td>1</td>\n",
              "      <td>0</td>\n",
              "      <td>PC 17599</td>\n",
              "      <td>71.2833</td>\n",
              "      <td>C85</td>\n",
              "      <td>C</td>\n",
              "    </tr>\n",
              "    <tr>\n",
              "      <th>2</th>\n",
              "      <td>3</td>\n",
              "      <td>1.0</td>\n",
              "      <td>3</td>\n",
              "      <td>Heikkinen, Miss. Laina</td>\n",
              "      <td>female</td>\n",
              "      <td>26.0</td>\n",
              "      <td>0</td>\n",
              "      <td>0</td>\n",
              "      <td>STON/O2. 3101282</td>\n",
              "      <td>7.9250</td>\n",
              "      <td>NaN</td>\n",
              "      <td>S</td>\n",
              "    </tr>\n",
              "    <tr>\n",
              "      <th>3</th>\n",
              "      <td>4</td>\n",
              "      <td>1.0</td>\n",
              "      <td>1</td>\n",
              "      <td>Futrelle, Mrs. Jacques Heath (Lily May Peel)</td>\n",
              "      <td>female</td>\n",
              "      <td>35.0</td>\n",
              "      <td>1</td>\n",
              "      <td>0</td>\n",
              "      <td>113803</td>\n",
              "      <td>53.1000</td>\n",
              "      <td>C123</td>\n",
              "      <td>S</td>\n",
              "    </tr>\n",
              "    <tr>\n",
              "      <th>4</th>\n",
              "      <td>5</td>\n",
              "      <td>0.0</td>\n",
              "      <td>3</td>\n",
              "      <td>Allen, Mr. William Henry</td>\n",
              "      <td>male</td>\n",
              "      <td>35.0</td>\n",
              "      <td>0</td>\n",
              "      <td>0</td>\n",
              "      <td>373450</td>\n",
              "      <td>8.0500</td>\n",
              "      <td>NaN</td>\n",
              "      <td>S</td>\n",
              "    </tr>\n",
              "    <tr>\n",
              "      <th>...</th>\n",
              "      <td>...</td>\n",
              "      <td>...</td>\n",
              "      <td>...</td>\n",
              "      <td>...</td>\n",
              "      <td>...</td>\n",
              "      <td>...</td>\n",
              "      <td>...</td>\n",
              "      <td>...</td>\n",
              "      <td>...</td>\n",
              "      <td>...</td>\n",
              "      <td>...</td>\n",
              "      <td>...</td>\n",
              "    </tr>\n",
              "    <tr>\n",
              "      <th>413</th>\n",
              "      <td>1305</td>\n",
              "      <td>NaN</td>\n",
              "      <td>3</td>\n",
              "      <td>Spector, Mr. Woolf</td>\n",
              "      <td>male</td>\n",
              "      <td>NaN</td>\n",
              "      <td>0</td>\n",
              "      <td>0</td>\n",
              "      <td>A.5. 3236</td>\n",
              "      <td>8.0500</td>\n",
              "      <td>NaN</td>\n",
              "      <td>S</td>\n",
              "    </tr>\n",
              "    <tr>\n",
              "      <th>414</th>\n",
              "      <td>1306</td>\n",
              "      <td>NaN</td>\n",
              "      <td>1</td>\n",
              "      <td>Oliva y Ocana, Dona. Fermina</td>\n",
              "      <td>female</td>\n",
              "      <td>39.0</td>\n",
              "      <td>0</td>\n",
              "      <td>0</td>\n",
              "      <td>PC 17758</td>\n",
              "      <td>108.9000</td>\n",
              "      <td>C105</td>\n",
              "      <td>C</td>\n",
              "    </tr>\n",
              "    <tr>\n",
              "      <th>415</th>\n",
              "      <td>1307</td>\n",
              "      <td>NaN</td>\n",
              "      <td>3</td>\n",
              "      <td>Saether, Mr. Simon Sivertsen</td>\n",
              "      <td>male</td>\n",
              "      <td>38.5</td>\n",
              "      <td>0</td>\n",
              "      <td>0</td>\n",
              "      <td>SOTON/O.Q. 3101262</td>\n",
              "      <td>7.2500</td>\n",
              "      <td>NaN</td>\n",
              "      <td>S</td>\n",
              "    </tr>\n",
              "    <tr>\n",
              "      <th>416</th>\n",
              "      <td>1308</td>\n",
              "      <td>NaN</td>\n",
              "      <td>3</td>\n",
              "      <td>Ware, Mr. Frederick</td>\n",
              "      <td>male</td>\n",
              "      <td>NaN</td>\n",
              "      <td>0</td>\n",
              "      <td>0</td>\n",
              "      <td>359309</td>\n",
              "      <td>8.0500</td>\n",
              "      <td>NaN</td>\n",
              "      <td>S</td>\n",
              "    </tr>\n",
              "    <tr>\n",
              "      <th>417</th>\n",
              "      <td>1309</td>\n",
              "      <td>NaN</td>\n",
              "      <td>3</td>\n",
              "      <td>Peter, Master. Michael J</td>\n",
              "      <td>male</td>\n",
              "      <td>NaN</td>\n",
              "      <td>1</td>\n",
              "      <td>1</td>\n",
              "      <td>2668</td>\n",
              "      <td>22.3583</td>\n",
              "      <td>NaN</td>\n",
              "      <td>C</td>\n",
              "    </tr>\n",
              "  </tbody>\n",
              "</table>\n",
              "<p>1309 rows × 12 columns</p>\n",
              "</div>"
            ],
            "text/plain": [
              "     PassengerId  Survived  Pclass  ...      Fare Cabin  Embarked\n",
              "0              1       0.0       3  ...    7.2500   NaN         S\n",
              "1              2       1.0       1  ...   71.2833   C85         C\n",
              "2              3       1.0       3  ...    7.9250   NaN         S\n",
              "3              4       1.0       1  ...   53.1000  C123         S\n",
              "4              5       0.0       3  ...    8.0500   NaN         S\n",
              "..           ...       ...     ...  ...       ...   ...       ...\n",
              "413         1305       NaN       3  ...    8.0500   NaN         S\n",
              "414         1306       NaN       1  ...  108.9000  C105         C\n",
              "415         1307       NaN       3  ...    7.2500   NaN         S\n",
              "416         1308       NaN       3  ...    8.0500   NaN         S\n",
              "417         1309       NaN       3  ...   22.3583   NaN         C\n",
              "\n",
              "[1309 rows x 12 columns]"
            ]
          },
          "metadata": {
            "tags": []
          },
          "execution_count": 3
        }
      ]
    },
    {
      "cell_type": "markdown",
      "metadata": {
        "id": "RoQLEXzmYUip"
      },
      "source": [
        "確認遺失值"
      ]
    },
    {
      "cell_type": "code",
      "metadata": {
        "colab": {
          "base_uri": "https://localhost:8080/"
        },
        "id": "A3jC-ufFYUKG",
        "outputId": "63e3c5ad-4ed4-426d-884c-0309c9099ed3"
      },
      "source": [
        "df_data.isna().sum()"
      ],
      "execution_count": null,
      "outputs": [
        {
          "output_type": "execute_result",
          "data": {
            "text/plain": [
              "PassengerId       0\n",
              "Survived        418\n",
              "Pclass            0\n",
              "Name              0\n",
              "Sex               0\n",
              "Age             263\n",
              "SibSp             0\n",
              "Parch             0\n",
              "Ticket            0\n",
              "Fare              1\n",
              "Cabin          1014\n",
              "Embarked          2\n",
              "dtype: int64"
            ]
          },
          "metadata": {
            "tags": []
          },
          "execution_count": 4
        }
      ]
    },
    {
      "cell_type": "markdown",
      "metadata": {
        "id": "w2IaM4FFYjmg"
      },
      "source": [
        "# 探索數據\r\n",
        " 看什麼樣的特徵會影響到生還率"
      ]
    },
    {
      "cell_type": "markdown",
      "metadata": {
        "id": "nseQeD9baCEu"
      },
      "source": [
        "## 性別(Sex)"
      ]
    },
    {
      "cell_type": "code",
      "metadata": {
        "colab": {
          "base_uri": "https://localhost:8080/",
          "height": 375
        },
        "id": "83WKPOhzYHV-",
        "outputId": "fa7dd14f-f143-4395-9889-b50776d56b08"
      },
      "source": [
        "sns.countplot(df_data['Sex'], hue=df_data['Survived'])\r\n",
        "display(df_data[[\"Sex\", \"Survived\"]].groupby(['Sex'], as_index=False).mean().round(3))"
      ],
      "execution_count": null,
      "outputs": [
        {
          "output_type": "display_data",
          "data": {
            "text/html": [
              "<div>\n",
              "<style scoped>\n",
              "    .dataframe tbody tr th:only-of-type {\n",
              "        vertical-align: middle;\n",
              "    }\n",
              "\n",
              "    .dataframe tbody tr th {\n",
              "        vertical-align: top;\n",
              "    }\n",
              "\n",
              "    .dataframe thead th {\n",
              "        text-align: right;\n",
              "    }\n",
              "</style>\n",
              "<table border=\"1\" class=\"dataframe\">\n",
              "  <thead>\n",
              "    <tr style=\"text-align: right;\">\n",
              "      <th></th>\n",
              "      <th>Sex</th>\n",
              "      <th>Survived</th>\n",
              "    </tr>\n",
              "  </thead>\n",
              "  <tbody>\n",
              "    <tr>\n",
              "      <th>0</th>\n",
              "      <td>female</td>\n",
              "      <td>0.742</td>\n",
              "    </tr>\n",
              "    <tr>\n",
              "      <th>1</th>\n",
              "      <td>male</td>\n",
              "      <td>0.189</td>\n",
              "    </tr>\n",
              "  </tbody>\n",
              "</table>\n",
              "</div>"
            ],
            "text/plain": [
              "      Sex  Survived\n",
              "0  female     0.742\n",
              "1    male     0.189"
            ]
          },
          "metadata": {
            "tags": []
          }
        },
        {
          "output_type": "display_data",
          "data": {
            "image/png": "[encoded data removed]",
            "text/plain": [
              "<Figure size 432x288 with 1 Axes>"
            ]
          },
          "metadata": {
            "tags": [],
            "needs_background": "light"
          }
        }
      ]
    },
    {
      "cell_type": "markdown",
      "metadata": {
        "id": "RXCo2CykZCkA"
      },
      "source": [
        "女性的生還率明顯高於男性，有74.2%，而男性都差不多死光了僅剩18.9%"
      ]
    },
    {
      "cell_type": "markdown",
      "metadata": {
        "id": "LlkmnClRaN0e"
      },
      "source": [
        "## 艙等(Cabin)"
      ]
    },
    {
      "cell_type": "code",
      "metadata": {
        "colab": {
          "base_uri": "https://localhost:8080/",
          "height": 405
        },
        "id": "zINYGrJ-YszE",
        "outputId": "634ae2c5-cb56-4681-abc7-cb5c4aa31062"
      },
      "source": [
        "sns.countplot(df_data['Pclass'], hue=df_data['Survived'])\r\n",
        "df_data[[\"Pclass\", \"Survived\"]].groupby(['Pclass'], as_index=False).mean().round(3)"
      ],
      "execution_count": null,
      "outputs": [
        {
          "output_type": "execute_result",
          "data": {
            "text/html": [
              "<div>\n",
              "<style scoped>\n",
              "    .dataframe tbody tr th:only-of-type {\n",
              "        vertical-align: middle;\n",
              "    }\n",
              "\n",
              "    .dataframe tbody tr th {\n",
              "        vertical-align: top;\n",
              "    }\n",
              "\n",
              "    .dataframe thead th {\n",
              "        text-align: right;\n",
              "    }\n",
              "</style>\n",
              "<table border=\"1\" class=\"dataframe\">\n",
              "  <thead>\n",
              "    <tr style=\"text-align: right;\">\n",
              "      <th></th>\n",
              "      <th>Pclass</th>\n",
              "      <th>Survived</th>\n",
              "    </tr>\n",
              "  </thead>\n",
              "  <tbody>\n",
              "    <tr>\n",
              "      <th>0</th>\n",
              "      <td>1</td>\n",
              "      <td>0.630</td>\n",
              "    </tr>\n",
              "    <tr>\n",
              "      <th>1</th>\n",
              "      <td>2</td>\n",
              "      <td>0.473</td>\n",
              "    </tr>\n",
              "    <tr>\n",
              "      <th>2</th>\n",
              "      <td>3</td>\n",
              "      <td>0.242</td>\n",
              "    </tr>\n",
              "  </tbody>\n",
              "</table>\n",
              "</div>"
            ],
            "text/plain": [
              "   Pclass  Survived\n",
              "0       1     0.630\n",
              "1       2     0.473\n",
              "2       3     0.242"
            ]
          },
          "metadata": {
            "tags": []
          },
          "execution_count": 6
        },
        {
          "output_type": "display_data",
          "data": {
            "image/png": "[encoded data removed]",
            "text/plain": [
              "<Figure size 432x288 with 1 Axes>"
            ]
          },
          "metadata": {
            "tags": [],
            "needs_background": "light"
          }
        }
      ]
    },
    {
      "cell_type": "markdown",
      "metadata": {
        "id": "1ZhZDx4SZYQ3"
      },
      "source": [
        "艙等數字越少艙等等級越高，我們可以看到隨著越高的艙等，生還的比例也越高\r\n"
      ]
    },
    {
      "cell_type": "markdown",
      "metadata": {
        "id": "M7IqU_F_aoVZ"
      },
      "source": [
        "## 票價(Fare)\r\n",
        " 對票價進行分組，然後觀察他們的生存率\r\n",
        " "
      ]
    },
    {
      "cell_type": "markdown",
      "metadata": {
        "id": "MQc3xV4jfN_n"
      },
      "source": [
        "  注意有個遺漏值，要補上"
      ]
    },
    {
      "cell_type": "code",
      "metadata": {
        "id": "jkW-3eTbfR9v"
      },
      "source": [
        "df_data['Fare'].fillna( df_data.Fare.median(), inplace=True )"
      ],
      "execution_count": null,
      "outputs": []
    },
    {
      "cell_type": "markdown",
      "metadata": {
        "id": "YVzcuUCNgCJC"
      },
      "source": [
        "由於只有一項遺失值，我們填入中位數\r\n",
        "\r\n",
        "\r\n",
        "\r\n"
      ]
    },
    {
      "cell_type": "code",
      "metadata": {
        "id": "I66VLCXxetL-",
        "colab": {
          "base_uri": "https://localhost:8080/",
          "height": 306
        },
        "outputId": "3fa47f2c-84f9-4cd1-fe62-74451500c893"
      },
      "source": [
        "# 計算 Fare 欄位各個百分位數(Percentile)\r\n",
        "P_all = [ np.percentile( df_data.Fare, q=i ) for i in np.arange(0,101) ] \r\n",
        "Pth_Percentile = pd.DataFrame( { 'Q':list(range(101)), 'Value':P_all } )\r\n",
        "\r\n",
        "# The first、second and third quartile(i,e., the 25th、50th and 75th Percentile)\r\n",
        "Q1 = Pth_Percentile.iloc[ 25, 1 ]\r\n",
        "Q2 = Pth_Percentile.iloc[ 50, 1 ]\r\n",
        "Q3 = Pth_Percentile.iloc[ 75, 1 ]\r\n",
        "IQR = Q3 - Q1\r\n",
        "\r\n",
        "print( f'Q1 = {Q1}' )\r\n",
        "print( f'Q2 = {Q2} = Median' )\r\n",
        "print( f'Q3 = {Q3}' )\r\n",
        "print( f'Maximum = {df_data.Fare.max()}')\r\n",
        "print( f'IQR = Q3 - Q1 = {IQR}' )\r\n",
        "print( f'Q3 + 1.5IQR = {Q3+1.5*IQR}' )\r\n",
        "\r\n",
        "# 依照四分位數，對 Fare 欄位進行分組\r\n",
        "Fare_bin = [ 0, Q1, Q2, Q3, Q3+1.5*IQR, df_data.Fare.max() ]\r\n",
        "df_data[ 'Fare_Group' ] = pd.cut( df_data.Fare.values, Fare_bin )\r\n",
        "\r\n",
        "# 計算每個分組中的資料筆數\r\n",
        "Group_Counts = df_data[ 'Fare_Group' ].value_counts().reset_index()    \r\n",
        "Group_Counts.columns = [ 'Fare_Group', 'Counts' ]\r\n",
        "Group_Counts.sort_values( by='Fare_Group' )"
      ],
      "execution_count": null,
      "outputs": [
        {
          "output_type": "stream",
          "text": [
            "Q1 = 7.8958\n",
            "Q2 = 14.4542 = Median\n",
            "Q3 = 31.275\n",
            "Maximum = 512.3292\n",
            "IQR = Q3 - Q1 = 23.379199999999997\n",
            "Q3 + 1.5IQR = 66.34379999999999\n"
          ],
          "name": "stdout"
        },
        {
          "output_type": "execute_result",
          "data": {
            "text/html": [
              "<div>\n",
              "<style scoped>\n",
              "    .dataframe tbody tr th:only-of-type {\n",
              "        vertical-align: middle;\n",
              "    }\n",
              "\n",
              "    .dataframe tbody tr th {\n",
              "        vertical-align: top;\n",
              "    }\n",
              "\n",
              "    .dataframe thead th {\n",
              "        text-align: right;\n",
              "    }\n",
              "</style>\n",
              "<table border=\"1\" class=\"dataframe\">\n",
              "  <thead>\n",
              "    <tr style=\"text-align: right;\">\n",
              "      <th></th>\n",
              "      <th>Fare_Group</th>\n",
              "      <th>Counts</th>\n",
              "    </tr>\n",
              "  </thead>\n",
              "  <tbody>\n",
              "    <tr>\n",
              "      <th>2</th>\n",
              "      <td>(0.0, 7.896]</td>\n",
              "      <td>320</td>\n",
              "    </tr>\n",
              "    <tr>\n",
              "      <th>1</th>\n",
              "      <td>(7.896, 14.454]</td>\n",
              "      <td>321</td>\n",
              "    </tr>\n",
              "    <tr>\n",
              "      <th>0</th>\n",
              "      <td>(14.454, 31.275]</td>\n",
              "      <td>328</td>\n",
              "    </tr>\n",
              "    <tr>\n",
              "      <th>4</th>\n",
              "      <td>(31.275, 66.344]</td>\n",
              "      <td>152</td>\n",
              "    </tr>\n",
              "    <tr>\n",
              "      <th>3</th>\n",
              "      <td>(66.344, 512.329]</td>\n",
              "      <td>171</td>\n",
              "    </tr>\n",
              "  </tbody>\n",
              "</table>\n",
              "</div>"
            ],
            "text/plain": [
              "          Fare_Group  Counts\n",
              "2       (0.0, 7.896]     320\n",
              "1    (7.896, 14.454]     321\n",
              "0   (14.454, 31.275]     328\n",
              "4   (31.275, 66.344]     152\n",
              "3  (66.344, 512.329]     171"
            ]
          },
          "metadata": {
            "tags": []
          },
          "execution_count": 8
        }
      ]
    },
    {
      "cell_type": "code",
      "metadata": {
        "colab": {
          "base_uri": "https://localhost:8080/",
          "height": 412
        },
        "id": "LfBc7tGcfVxJ",
        "outputId": "bc9ae3a1-efc4-4e0e-aa10-a306a702a6fa"
      },
      "source": [
        "plt.subplots( figsize=(12,5) )\r\n",
        "sns.countplot( df_data.Fare_Group, hue=df_data.Survived, palette=['lightcoral','skyblue'] )\r\n",
        "plt.ylabel( 'Counts' ) \r\n",
        "plt.xticks( rotation=-45, fontsize=12 )\r\n",
        "plt.show()"
      ],
      "execution_count": null,
      "outputs": [
        {
          "output_type": "display_data",
          "data": {
            "image/png": "[encoded data removed]",
            "text/plain": [
              "<Figure size 864x360 with 1 Axes>"
            ]
          },
          "metadata": {
            "tags": [],
            "needs_background": "light"
          }
        }
      ]
    },
    {
      "cell_type": "markdown",
      "metadata": {
        "id": "bd6BZ-uwffU3"
      },
      "source": [
        "可以發現票價越高，生存率也就越大，我們把票價一樣按照4分位數，切成5個區間\r\n",
        "\r\n"
      ]
    },
    {
      "cell_type": "code",
      "metadata": {
        "id": "sx_FXa_JfbZp"
      },
      "source": [
        "df_data['FareBin'] = pd.qcut(df_data['Fare'], 5)\r\n"
      ],
      "execution_count": null,
      "outputs": []
    },
    {
      "cell_type": "code",
      "metadata": {
        "id": "oX8CTQ_9ksUP"
      },
      "source": [
        "# 刪除 Fare_Group 欄位 \r\n",
        "df_data.drop( ['Fare','Fare_Group'], axis=1, inplace=True )"
      ],
      "execution_count": null,
      "outputs": []
    },
    {
      "cell_type": "markdown",
      "metadata": {
        "id": "zyLGRTzxidpf"
      },
      "source": [
        "# 特徵工程"
      ]
    },
    {
      "cell_type": "markdown",
      "metadata": {
        "id": "i8lJU3m-tgAk"
      },
      "source": [
        "## 處理字串欄位"
      ]
    },
    {
      "cell_type": "markdown",
      "metadata": {
        "id": "6Zlb9v79jYnu"
      },
      "source": [
        "### 姓名(Name)\r\n",
        "我們提取姓名的title\r\n"
      ]
    },
    {
      "cell_type": "code",
      "metadata": {
        "colab": {
          "base_uri": "https://localhost:8080/"
        },
        "id": "eiO7eyswjX2B",
        "outputId": "03960a0a-8488-4728-e938-b9045faa7c3f"
      },
      "source": [
        "df_data['Title'] = df_data.Name.str.split(', ', expand=True)[1] #Yutung,Mr.Huang → Mr.Huang\r\n",
        "df_data['Title'] = df_data.Title.str.split('.', expand=True)[0] #Mr.Huang → Mr\r\n",
        "df_data['Title'].unique()"
      ],
      "execution_count": null,
      "outputs": [
        {
          "output_type": "execute_result",
          "data": {
            "text/plain": [
              "array(['Mr', 'Mrs', 'Miss', 'Master', 'Don', 'Rev', 'Dr', 'Mme', 'Ms',\n",
              "       'Major', 'Lady', 'Sir', 'Mlle', 'Col', 'Capt', 'the Countess',\n",
              "       'Jonkheer', 'Dona'], dtype=object)"
            ]
          },
          "metadata": {
            "tags": []
          },
          "execution_count": 12
        }
      ]
    },
    {
      "cell_type": "markdown",
      "metadata": {
        "id": "41pHURBhjoi1"
      },
      "source": [
        "然後我們合併同樣性別或關係的稱謂"
      ]
    },
    {
      "cell_type": "code",
      "metadata": {
        "colab": {
          "base_uri": "https://localhost:8080/"
        },
        "id": "GSnEr5oqjzg4",
        "outputId": "c02fd5f4-9da3-4eca-8e23-a059ea9cf951"
      },
      "source": [
        "df_data['Title'] = df_data.Title.replace( ['Don','Rev','Dr','Major','Lady','Sir','Col','Capt','the Countess','Jonkheer','Dona'], 'Rare' )\r\n",
        "df_data['Title'] = df_data.Title.replace( ['Ms','Mlle'], 'Miss' )\r\n",
        "df_data['Title'] = df_data.Title.replace( 'Mme', 'Mrs' )\r\n",
        "df_data['Title'].unique()"
      ],
      "execution_count": null,
      "outputs": [
        {
          "output_type": "execute_result",
          "data": {
            "text/plain": [
              "array(['Mr', 'Mrs', 'Miss', 'Master', 'Rare'], dtype=object)"
            ]
          },
          "metadata": {
            "tags": []
          },
          "execution_count": 13
        }
      ]
    },
    {
      "cell_type": "code",
      "metadata": {
        "id": "s8UDVAplj1op"
      },
      "source": [
        "# 刪除原始資料中的 Name 欄位 \r\n",
        "df_data.drop( 'Name', axis=1, inplace=True )"
      ],
      "execution_count": null,
      "outputs": []
    },
    {
      "cell_type": "markdown",
      "metadata": {
        "id": "eYY2dS2Qj5Uv"
      },
      "source": [
        "### 船票號碼(Ticket)\r\n",
        "我們合理假設ticket前面的英文字母代表相同的區域，所以我們截取ticket前面英文字母的部分，當作倉房的位置分區"
      ]
    },
    {
      "cell_type": "code",
      "metadata": {
        "colab": {
          "base_uri": "https://localhost:8080/"
        },
        "id": "IGE7H_3Vj2k5",
        "outputId": "7ed9ade2-5703-4e8c-b9d9-35c924a1d4c0"
      },
      "source": [
        "df_data['Ticket_info'] = df_data.Ticket.apply( lambda x:x.replace('.','').replace('/','').strip().split(' ')[0] if not x.isdigit() else 'X')\r\n",
        "#strip 去除引號 isdigit確認有沒有包含前面的英文字母\r\n",
        "df_data['Ticket_info'].unique()"
      ],
      "execution_count": null,
      "outputs": [
        {
          "output_type": "execute_result",
          "data": {
            "text/plain": [
              "array(['A5', 'PC', 'STONO2', 'X', 'PP', 'CA', 'SCParis', 'SCA4', 'A4',\n",
              "       'SP', 'SOC', 'WC', 'SOTONOQ', 'WEP', 'STONO', 'C', 'SCPARIS',\n",
              "       'SOP', 'Fa', 'LINE', 'FCC', 'SWPP', 'SCOW', 'PPP', 'SC', 'SCAH',\n",
              "       'AS', 'SOPP', 'FC', 'SOTONO2', 'CASOTON', 'SCA3', 'STONOQ', 'AQ4',\n",
              "       'A', 'LP', 'AQ3'], dtype=object)"
            ]
          },
          "metadata": {
            "tags": []
          },
          "execution_count": 15
        }
      ]
    },
    {
      "cell_type": "code",
      "metadata": {
        "id": "GE9dbmVAkQ_c"
      },
      "source": [
        "# 刪除原始資料中的 Ticket 欄位 \r\n",
        "df_data.drop( 'Ticket', axis=1, inplace=True )"
      ],
      "execution_count": null,
      "outputs": []
    },
    {
      "cell_type": "markdown",
      "metadata": {
        "id": "boUVhV-1kbAU"
      },
      "source": [
        "## 填補遺漏值"
      ]
    },
    {
      "cell_type": "code",
      "metadata": {
        "colab": {
          "base_uri": "https://localhost:8080/"
        },
        "id": "PO7QEwrpkaGn",
        "outputId": "f0de0e53-b097-4d53-ee39-7f5cec730c8e"
      },
      "source": [
        "df_data.isna().sum()"
      ],
      "execution_count": null,
      "outputs": [
        {
          "output_type": "execute_result",
          "data": {
            "text/plain": [
              "PassengerId       0\n",
              "Survived        418\n",
              "Pclass            0\n",
              "Sex               0\n",
              "Age             263\n",
              "SibSp             0\n",
              "Parch             0\n",
              "Cabin          1014\n",
              "Embarked          2\n",
              "FareBin           0\n",
              "Title             0\n",
              "Ticket_info       0\n",
              "dtype: int64"
            ]
          },
          "metadata": {
            "tags": []
          },
          "execution_count": 17
        }
      ]
    },
    {
      "cell_type": "markdown",
      "metadata": {
        "id": "1GcX61OCkitv"
      },
      "source": [
        "Survived裡面的遺漏值是我們要預測的，所以不理他"
      ]
    },
    {
      "cell_type": "markdown",
      "metadata": {
        "id": "p9IDMO5slnJK"
      },
      "source": [
        "## 年齡（Age)\r\n",
        "根據稱謂對應的年齡平均值填入\r\n"
      ]
    },
    {
      "cell_type": "markdown",
      "metadata": {
        "id": "nPGQoh5Uss6b"
      },
      "source": [
        "因為年齡缺的不少，我們擔心缺失值會影響預測 所以我們先來觀察缺失值分佈的情況"
      ]
    },
    {
      "cell_type": "code",
      "metadata": {
        "colab": {
          "base_uri": "https://localhost:8080/"
        },
        "id": "86sJxTI_khRJ",
        "outputId": "5a736b3e-0598-4d56-df09-c12c557cf77e"
      },
      "source": [
        "df_data['Has_Age'] = df_data['Age'].isnull().map(lambda x : 0 if x == True else 1)\r\n",
        "fig, [ax1, ax2] = plt.subplots(1, 2)\r\n",
        "fig.set_figwidth(18)\r\n",
        "ax1 = sns.countplot(df_data['Pclass'],hue=df_data['Has_Age'],ax=ax1)\r\n",
        "ax2 = sns.countplot(df_data['Sex'],hue=df_data['Has_Age'],ax=ax2)\r\n",
        "pd.crosstab(df_data['Has_Age'],df_data['Sex'],margins=True).round(3)"
      ],
      "execution_count": null,
      "outputs": [
        {
          "output_type": "execute_result",
          "data": {
            "text/html": [
              "<div>\n",
              "<style scoped>\n",
              "    .dataframe tbody tr th:only-of-type {\n",
              "        vertical-align: middle;\n",
              "    }\n",
              "\n",
              "    .dataframe tbody tr th {\n",
              "        vertical-align: top;\n",
              "    }\n",
              "\n",
              "    .dataframe thead th {\n",
              "        text-align: right;\n",
              "    }\n",
              "</style>\n",
              "<table border=\"1\" class=\"dataframe\">\n",
              "  <thead>\n",
              "    <tr style=\"text-align: right;\">\n",
              "      <th>Sex</th>\n",
              "      <th>female</th>\n",
              "      <th>male</th>\n",
              "      <th>All</th>\n",
              "    </tr>\n",
              "    <tr>\n",
              "      <th>Has_Age</th>\n",
              "      <th></th>\n",
              "      <th></th>\n",
              "      <th></th>\n",
              "    </tr>\n",
              "  </thead>\n",
              "  <tbody>\n",
              "    <tr>\n",
              "      <th>0</th>\n",
              "      <td>78</td>\n",
              "      <td>185</td>\n",
              "      <td>263</td>\n",
              "    </tr>\n",
              "    <tr>\n",
              "      <th>1</th>\n",
              "      <td>388</td>\n",
              "      <td>658</td>\n",
              "      <td>1046</td>\n",
              "    </tr>\n",
              "    <tr>\n",
              "      <th>All</th>\n",
              "      <td>466</td>\n",
              "      <td>843</td>\n",
              "      <td>1309</td>\n",
              "    </tr>\n",
              "  </tbody>\n",
              "</table>\n",
              "</div>"
            ],
            "text/plain": [
              "Sex      female  male   All\n",
              "Has_Age                    \n",
              "0            78   185   263\n",
              "1           388   658  1046\n",
              "All         466   843  1309"
            ]
          },
          "metadata": {
            "tags": []
          },
          "execution_count": 18
        },
        {
          "output_type": "display_data",
          "data": {
            "image/png": "[encoded data removed]",
            "text/plain": [
              "<Figure size 1296x288 with 2 Axes>"
            ]
          },
          "metadata": {
            "tags": [],
            "needs_background": "light"
          }
        }
      ]
    },
    {
      "cell_type": "markdown",
      "metadata": {
        "id": "lpXIXDj9nTZy"
      },
      "source": [
        "我們可以看到年齡缺失值蠻大部分在3等艙，所以如果年齡真的是個重要特徵，我們對3等艙的觀察可能就會失真，保守一點的做法就是觀察1,2等倉中年齡對生存率的影響"
      ]
    },
    {
      "cell_type": "markdown",
      "metadata": {
        "id": "v6BC6-xUnyxI"
      },
      "source": [
        "而性別的部分，女性大概是16.7%遺失，男性是21.9%，男性稍微多了一點，如果年齡真的有影響的話可能可以搭配男性區分出更多的生還者"
      ]
    },
    {
      "cell_type": "markdown",
      "metadata": {
        "id": "z1LEdFU8p2kL"
      },
      "source": [
        "接著我們來看1,2等艙中年齡對存活率的影響"
      ]
    },
    {
      "cell_type": "code",
      "metadata": {
        "colab": {
          "base_uri": "https://localhost:8080/"
        },
        "id": "qJozy87Gp8qk",
        "outputId": "50e2e017-3f3c-4dff-a4e6-f91a0df13925"
      },
      "source": [
        "\r\n",
        "Has_Age_P12_Survived = ( (df_data.Has_Age == 1) & (df_data.Pclass != 3 ) & (df_data.Survived == 1) )\r\n",
        "Has_Age_P12_Dead = ( (df_data.Has_Age == 1) & (df_data.Pclass != 3 ) & (df_data.Survived == 0) )\r\n",
        "\r\n",
        "fig, ax = plt.subplots( figsize = (15,9) )\r\n",
        "ax = sns.distplot(df_data.loc[Has_Age_P12_Survived, 'Age'],kde=False,bins=10,norm_hist=True,label='Survived') \r\n",
        "ax = sns.distplot(df_data.loc[Has_Age_P12_Dead, 'Age'],kde=False,bins=10,norm_hist=True,label='Dead')\r\n",
        "ax.legend()\r\n",
        "ax.set_title('Age vs Survived in Pclass = 1 and  2',fontsize = 20)"
      ],
      "execution_count": null,
      "outputs": [
        {
          "output_type": "execute_result",
          "data": {
            "text/plain": [
              "Text(0.5, 1.0, 'Age vs Survived in Pclass = 1 and  2')"
            ]
          },
          "metadata": {
            "tags": []
          },
          "execution_count": 19
        },
        {
          "output_type": "display_data",
          "data": {
            "image/png": "[encoded data removed]",
            "text/plain": [
              "<Figure size 1080x648 with 1 Axes>"
            ]
          },
          "metadata": {
            "tags": [],
            "needs_background": "light"
          }
        }
      ]
    },
    {
      "cell_type": "markdown",
      "metadata": {
        "id": "Q8IAwEfiqREO"
      },
      "source": [
        "我們可以看到左邊紅色多出了一塊，也就是存活率比較高，大概16，17歲以下，代表說青少年有比較高的生存率,然後我們也看到當>17歲，年齡就不算一個太顯著的特徵，所以根據前面所述，我們就把年齡分成大於17跟小於17"
      ]
    },
    {
      "cell_type": "markdown",
      "metadata": {
        "id": "2yHwL1oErPQy"
      },
      "source": [
        "現在我們計算稱謂(title)的年齡平均值，我們在用平均直去填入Age的遺失值"
      ]
    },
    {
      "cell_type": "code",
      "metadata": {
        "colab": {
          "base_uri": "https://localhost:8080/"
        },
        "id": "MPXY7JGYrn8O",
        "outputId": "63540e9b-41e3-4c2d-823b-8abd7044d9b9"
      },
      "source": [
        "# 計算每個 Title 的年齡平均值及中位數\r\n",
        "Age_Mean = df_data[['Title','Age']].groupby( by=['Title'] ).mean()\r\n",
        "Age_Median = df_data[['Title','Age']].groupby( by=['Title'] ).median()\r\n",
        "\r\n",
        "Age_Mean.columns = ['Age Mean']\r\n",
        "Age_Median.columns = ['Age Median']\r\n",
        "Age_Mean.reset_index( inplace=True )\r\n",
        "Age_Median.reset_index( inplace=True )\r\n",
        "\r\n",
        "display( Age_Median )\r\n",
        "display( Age_Mean )"
      ],
      "execution_count": null,
      "outputs": [
        {
          "output_type": "display_data",
          "data": {
            "text/html": [
              "<div>\n",
              "<style scoped>\n",
              "    .dataframe tbody tr th:only-of-type {\n",
              "        vertical-align: middle;\n",
              "    }\n",
              "\n",
              "    .dataframe tbody tr th {\n",
              "        vertical-align: top;\n",
              "    }\n",
              "\n",
              "    .dataframe thead th {\n",
              "        text-align: right;\n",
              "    }\n",
              "</style>\n",
              "<table border=\"1\" class=\"dataframe\">\n",
              "  <thead>\n",
              "    <tr style=\"text-align: right;\">\n",
              "      <th></th>\n",
              "      <th>Title</th>\n",
              "      <th>Age Median</th>\n",
              "    </tr>\n",
              "  </thead>\n",
              "  <tbody>\n",
              "    <tr>\n",
              "      <th>0</th>\n",
              "      <td>Master</td>\n",
              "      <td>4.0</td>\n",
              "    </tr>\n",
              "    <tr>\n",
              "      <th>1</th>\n",
              "      <td>Miss</td>\n",
              "      <td>22.0</td>\n",
              "    </tr>\n",
              "    <tr>\n",
              "      <th>2</th>\n",
              "      <td>Mr</td>\n",
              "      <td>29.0</td>\n",
              "    </tr>\n",
              "    <tr>\n",
              "      <th>3</th>\n",
              "      <td>Mrs</td>\n",
              "      <td>35.0</td>\n",
              "    </tr>\n",
              "    <tr>\n",
              "      <th>4</th>\n",
              "      <td>Rare</td>\n",
              "      <td>47.5</td>\n",
              "    </tr>\n",
              "  </tbody>\n",
              "</table>\n",
              "</div>"
            ],
            "text/plain": [
              "    Title  Age Median\n",
              "0  Master         4.0\n",
              "1    Miss        22.0\n",
              "2      Mr        29.0\n",
              "3     Mrs        35.0\n",
              "4    Rare        47.5"
            ]
          },
          "metadata": {
            "tags": []
          }
        },
        {
          "output_type": "display_data",
          "data": {
            "text/html": [
              "<div>\n",
              "<style scoped>\n",
              "    .dataframe tbody tr th:only-of-type {\n",
              "        vertical-align: middle;\n",
              "    }\n",
              "\n",
              "    .dataframe tbody tr th {\n",
              "        vertical-align: top;\n",
              "    }\n",
              "\n",
              "    .dataframe thead th {\n",
              "        text-align: right;\n",
              "    }\n",
              "</style>\n",
              "<table border=\"1\" class=\"dataframe\">\n",
              "  <thead>\n",
              "    <tr style=\"text-align: right;\">\n",
              "      <th></th>\n",
              "      <th>Title</th>\n",
              "      <th>Age Mean</th>\n",
              "    </tr>\n",
              "  </thead>\n",
              "  <tbody>\n",
              "    <tr>\n",
              "      <th>0</th>\n",
              "      <td>Master</td>\n",
              "      <td>5.482642</td>\n",
              "    </tr>\n",
              "    <tr>\n",
              "      <th>1</th>\n",
              "      <td>Miss</td>\n",
              "      <td>21.824366</td>\n",
              "    </tr>\n",
              "    <tr>\n",
              "      <th>2</th>\n",
              "      <td>Mr</td>\n",
              "      <td>32.252151</td>\n",
              "    </tr>\n",
              "    <tr>\n",
              "      <th>3</th>\n",
              "      <td>Mrs</td>\n",
              "      <td>36.918129</td>\n",
              "    </tr>\n",
              "    <tr>\n",
              "      <th>4</th>\n",
              "      <td>Rare</td>\n",
              "      <td>45.178571</td>\n",
              "    </tr>\n",
              "  </tbody>\n",
              "</table>\n",
              "</div>"
            ],
            "text/plain": [
              "    Title   Age Mean\n",
              "0  Master   5.482642\n",
              "1    Miss  21.824366\n",
              "2      Mr  32.252151\n",
              "3     Mrs  36.918129\n",
              "4    Rare  45.178571"
            ]
          },
          "metadata": {
            "tags": []
          }
        }
      ]
    },
    {
      "cell_type": "code",
      "metadata": {
        "id": "VtTEVsI8rplm"
      },
      "source": [
        "# 利用每個 Title 的年齡平均數，填補每個 Title 所對應 Age 的缺漏值\r\n",
        "df_data.loc[(df_data.Age.isnull())&(df_data.Title=='Master'),'Age'] = Age_Mean.loc[Age_Mean.Title=='Master','Age Mean'][0]\r\n",
        "df_data.loc[(df_data.Age.isnull())&(df_data.Title=='Miss'),'Age'] = Age_Mean.loc[Age_Mean.Title=='Miss','Age Mean'][1]\r\n",
        "df_data.loc[(df_data.Age.isnull())&(df_data.Title=='Mr'),'Age'] = Age_Mean.loc[Age_Mean.Title=='Mr','Age Mean'][2]\r\n",
        "df_data.loc[(df_data.Age.isnull())&(df_data.Title=='Mrs'),'Age'] = Age_Mean.loc[Age_Mean.Title=='Mrs','Age Mean'][3]\r\n",
        "df_data.loc[(df_data.Age.isnull())&(df_data.Title=='Rare'),'Age'] = Age_Mean.loc[Age_Mean.Title=='Rare','Age Mean'][4]\r\n",
        "\r\n"
      ],
      "execution_count": null,
      "outputs": []
    },
    {
      "cell_type": "code",
      "metadata": {
        "colab": {
          "base_uri": "https://localhost:8080/"
        },
        "id": "kN9_AFMQrzCJ",
        "outputId": "a19cf248-e3b2-4488-cad6-3359c9046b58"
      },
      "source": [
        "# 乘客年齡是否未滿17歲(是：1；否：0)\r\n",
        "df_data[ 'is_Age_17' ] = (df_data.Age<17)*1\r\n",
        "df_data"
      ],
      "execution_count": null,
      "outputs": [
        {
          "output_type": "execute_result",
          "data": {
            "text/html": [
              "<div>\n",
              "<style scoped>\n",
              "    .dataframe tbody tr th:only-of-type {\n",
              "        vertical-align: middle;\n",
              "    }\n",
              "\n",
              "    .dataframe tbody tr th {\n",
              "        vertical-align: top;\n",
              "    }\n",
              "\n",
              "    .dataframe thead th {\n",
              "        text-align: right;\n",
              "    }\n",
              "</style>\n",
              "<table border=\"1\" class=\"dataframe\">\n",
              "  <thead>\n",
              "    <tr style=\"text-align: right;\">\n",
              "      <th></th>\n",
              "      <th>PassengerId</th>\n",
              "      <th>Survived</th>\n",
              "      <th>Pclass</th>\n",
              "      <th>Sex</th>\n",
              "      <th>Age</th>\n",
              "      <th>SibSp</th>\n",
              "      <th>Parch</th>\n",
              "      <th>Cabin</th>\n",
              "      <th>Embarked</th>\n",
              "      <th>FareBin</th>\n",
              "      <th>Title</th>\n",
              "      <th>Ticket_info</th>\n",
              "      <th>Has_Age</th>\n",
              "      <th>is_Age_17</th>\n",
              "    </tr>\n",
              "  </thead>\n",
              "  <tbody>\n",
              "    <tr>\n",
              "      <th>0</th>\n",
              "      <td>1</td>\n",
              "      <td>0.0</td>\n",
              "      <td>3</td>\n",
              "      <td>male</td>\n",
              "      <td>22.000000</td>\n",
              "      <td>1</td>\n",
              "      <td>0</td>\n",
              "      <td>NaN</td>\n",
              "      <td>S</td>\n",
              "      <td>(-0.001, 7.854]</td>\n",
              "      <td>Mr</td>\n",
              "      <td>A5</td>\n",
              "      <td>1</td>\n",
              "      <td>0</td>\n",
              "    </tr>\n",
              "    <tr>\n",
              "      <th>1</th>\n",
              "      <td>2</td>\n",
              "      <td>1.0</td>\n",
              "      <td>1</td>\n",
              "      <td>female</td>\n",
              "      <td>38.000000</td>\n",
              "      <td>1</td>\n",
              "      <td>0</td>\n",
              "      <td>C85</td>\n",
              "      <td>C</td>\n",
              "      <td>(41.579, 512.329]</td>\n",
              "      <td>Mrs</td>\n",
              "      <td>PC</td>\n",
              "      <td>1</td>\n",
              "      <td>0</td>\n",
              "    </tr>\n",
              "    <tr>\n",
              "      <th>2</th>\n",
              "      <td>3</td>\n",
              "      <td>1.0</td>\n",
              "      <td>3</td>\n",
              "      <td>female</td>\n",
              "      <td>26.000000</td>\n",
              "      <td>0</td>\n",
              "      <td>0</td>\n",
              "      <td>NaN</td>\n",
              "      <td>S</td>\n",
              "      <td>(7.854, 10.5]</td>\n",
              "      <td>Miss</td>\n",
              "      <td>STONO2</td>\n",
              "      <td>1</td>\n",
              "      <td>0</td>\n",
              "    </tr>\n",
              "    <tr>\n",
              "      <th>3</th>\n",
              "      <td>4</td>\n",
              "      <td>1.0</td>\n",
              "      <td>1</td>\n",
              "      <td>female</td>\n",
              "      <td>35.000000</td>\n",
              "      <td>1</td>\n",
              "      <td>0</td>\n",
              "      <td>C123</td>\n",
              "      <td>S</td>\n",
              "      <td>(41.579, 512.329]</td>\n",
              "      <td>Mrs</td>\n",
              "      <td>X</td>\n",
              "      <td>1</td>\n",
              "      <td>0</td>\n",
              "    </tr>\n",
              "    <tr>\n",
              "      <th>4</th>\n",
              "      <td>5</td>\n",
              "      <td>0.0</td>\n",
              "      <td>3</td>\n",
              "      <td>male</td>\n",
              "      <td>35.000000</td>\n",
              "      <td>0</td>\n",
              "      <td>0</td>\n",
              "      <td>NaN</td>\n",
              "      <td>S</td>\n",
              "      <td>(7.854, 10.5]</td>\n",
              "      <td>Mr</td>\n",
              "      <td>X</td>\n",
              "      <td>1</td>\n",
              "      <td>0</td>\n",
              "    </tr>\n",
              "    <tr>\n",
              "      <th>...</th>\n",
              "      <td>...</td>\n",
              "      <td>...</td>\n",
              "      <td>...</td>\n",
              "      <td>...</td>\n",
              "      <td>...</td>\n",
              "      <td>...</td>\n",
              "      <td>...</td>\n",
              "      <td>...</td>\n",
              "      <td>...</td>\n",
              "      <td>...</td>\n",
              "      <td>...</td>\n",
              "      <td>...</td>\n",
              "      <td>...</td>\n",
              "      <td>...</td>\n",
              "    </tr>\n",
              "    <tr>\n",
              "      <th>413</th>\n",
              "      <td>1305</td>\n",
              "      <td>NaN</td>\n",
              "      <td>3</td>\n",
              "      <td>male</td>\n",
              "      <td>32.252151</td>\n",
              "      <td>0</td>\n",
              "      <td>0</td>\n",
              "      <td>NaN</td>\n",
              "      <td>S</td>\n",
              "      <td>(7.854, 10.5]</td>\n",
              "      <td>Mr</td>\n",
              "      <td>A5</td>\n",
              "      <td>0</td>\n",
              "      <td>0</td>\n",
              "    </tr>\n",
              "    <tr>\n",
              "      <th>414</th>\n",
              "      <td>1306</td>\n",
              "      <td>NaN</td>\n",
              "      <td>1</td>\n",
              "      <td>female</td>\n",
              "      <td>39.000000</td>\n",
              "      <td>0</td>\n",
              "      <td>0</td>\n",
              "      <td>C105</td>\n",
              "      <td>C</td>\n",
              "      <td>(41.579, 512.329]</td>\n",
              "      <td>Rare</td>\n",
              "      <td>PC</td>\n",
              "      <td>1</td>\n",
              "      <td>0</td>\n",
              "    </tr>\n",
              "    <tr>\n",
              "      <th>415</th>\n",
              "      <td>1307</td>\n",
              "      <td>NaN</td>\n",
              "      <td>3</td>\n",
              "      <td>male</td>\n",
              "      <td>38.500000</td>\n",
              "      <td>0</td>\n",
              "      <td>0</td>\n",
              "      <td>NaN</td>\n",
              "      <td>S</td>\n",
              "      <td>(-0.001, 7.854]</td>\n",
              "      <td>Mr</td>\n",
              "      <td>SOTONOQ</td>\n",
              "      <td>1</td>\n",
              "      <td>0</td>\n",
              "    </tr>\n",
              "    <tr>\n",
              "      <th>416</th>\n",
              "      <td>1308</td>\n",
              "      <td>NaN</td>\n",
              "      <td>3</td>\n",
              "      <td>male</td>\n",
              "      <td>32.252151</td>\n",
              "      <td>0</td>\n",
              "      <td>0</td>\n",
              "      <td>NaN</td>\n",
              "      <td>S</td>\n",
              "      <td>(7.854, 10.5]</td>\n",
              "      <td>Mr</td>\n",
              "      <td>X</td>\n",
              "      <td>0</td>\n",
              "      <td>0</td>\n",
              "    </tr>\n",
              "    <tr>\n",
              "      <th>417</th>\n",
              "      <td>1309</td>\n",
              "      <td>NaN</td>\n",
              "      <td>3</td>\n",
              "      <td>male</td>\n",
              "      <td>5.482642</td>\n",
              "      <td>1</td>\n",
              "      <td>1</td>\n",
              "      <td>NaN</td>\n",
              "      <td>C</td>\n",
              "      <td>(21.558, 41.579]</td>\n",
              "      <td>Master</td>\n",
              "      <td>X</td>\n",
              "      <td>0</td>\n",
              "      <td>1</td>\n",
              "    </tr>\n",
              "  </tbody>\n",
              "</table>\n",
              "<p>1309 rows × 14 columns</p>\n",
              "</div>"
            ],
            "text/plain": [
              "     PassengerId  Survived  Pclass  ... Ticket_info  Has_Age  is_Age_17\n",
              "0              1       0.0       3  ...          A5        1          0\n",
              "1              2       1.0       1  ...          PC        1          0\n",
              "2              3       1.0       3  ...      STONO2        1          0\n",
              "3              4       1.0       1  ...           X        1          0\n",
              "4              5       0.0       3  ...           X        1          0\n",
              "..           ...       ...     ...  ...         ...      ...        ...\n",
              "413         1305       NaN       3  ...          A5        0          0\n",
              "414         1306       NaN       1  ...          PC        1          0\n",
              "415         1307       NaN       3  ...     SOTONOQ        1          0\n",
              "416         1308       NaN       3  ...           X        0          0\n",
              "417         1309       NaN       3  ...           X        0          1\n",
              "\n",
              "[1309 rows x 14 columns]"
            ]
          },
          "metadata": {
            "tags": []
          },
          "execution_count": 22
        }
      ]
    },
    {
      "cell_type": "markdown",
      "metadata": {
        "id": "QYxdkFtAsBPj"
      },
      "source": [
        "### 船艙號碼(Cabin)\r\n",
        "我們取第一個英文字母作為分類的標籤"
      ]
    },
    {
      "cell_type": "code",
      "metadata": {
        "colab": {
          "base_uri": "https://localhost:8080/"
        },
        "id": "sxngGW0fsAKh",
        "outputId": "2c9812c5-b9b9-463f-80eb-e3563c0892dd"
      },
      "source": [
        "# 觀察 Cabin 中的種類\r\n",
        "df_data['Cabin'].unique()"
      ],
      "execution_count": null,
      "outputs": [
        {
          "output_type": "execute_result",
          "data": {
            "text/plain": [
              "array([nan, 'C85', 'C123', 'E46', 'G6', 'C103', 'D56', 'A6',\n",
              "       'C23 C25 C27', 'B78', 'D33', 'B30', 'C52', 'B28', 'C83', 'F33',\n",
              "       'F G73', 'E31', 'A5', 'D10 D12', 'D26', 'C110', 'B58 B60', 'E101',\n",
              "       'F E69', 'D47', 'B86', 'F2', 'C2', 'E33', 'B19', 'A7', 'C49', 'F4',\n",
              "       'A32', 'B4', 'B80', 'A31', 'D36', 'D15', 'C93', 'C78', 'D35',\n",
              "       'C87', 'B77', 'E67', 'B94', 'C125', 'C99', 'C118', 'D7', 'A19',\n",
              "       'B49', 'D', 'C22 C26', 'C106', 'C65', 'E36', 'C54',\n",
              "       'B57 B59 B63 B66', 'C7', 'E34', 'C32', 'B18', 'C124', 'C91', 'E40',\n",
              "       'T', 'C128', 'D37', 'B35', 'E50', 'C82', 'B96 B98', 'E10', 'E44',\n",
              "       'A34', 'C104', 'C111', 'C92', 'E38', 'D21', 'E12', 'E63', 'A14',\n",
              "       'B37', 'C30', 'D20', 'B79', 'E25', 'D46', 'B73', 'C95', 'B38',\n",
              "       'B39', 'B22', 'C86', 'C70', 'A16', 'C101', 'C68', 'A10', 'E68',\n",
              "       'B41', 'A20', 'D19', 'D50', 'D9', 'A23', 'B50', 'A26', 'D48',\n",
              "       'E58', 'C126', 'B71', 'B51 B53 B55', 'D49', 'B5', 'B20', 'F G63',\n",
              "       'C62 C64', 'E24', 'C90', 'C45', 'E8', 'B101', 'D45', 'C46', 'D30',\n",
              "       'E121', 'D11', 'E77', 'F38', 'B3', 'D6', 'B82 B84', 'D17', 'A36',\n",
              "       'B102', 'B69', 'E49', 'C47', 'D28', 'E17', 'A24', 'C50', 'B42',\n",
              "       'C148', 'B45', 'B36', 'A21', 'D34', 'A9', 'C31', 'B61', 'C53',\n",
              "       'D43', 'C130', 'C132', 'C55 C57', 'C116', 'F', 'A29', 'C6', 'C28',\n",
              "       'C51', 'C97', 'D22', 'B10', 'E45', 'E52', 'A11', 'B11', 'C80',\n",
              "       'C89', 'F E46', 'B26', 'F E57', 'A18', 'E60', 'E39 E41',\n",
              "       'B52 B54 B56', 'C39', 'B24', 'D40', 'D38', 'C105'], dtype=object)"
            ]
          },
          "metadata": {
            "tags": []
          },
          "execution_count": 23
        }
      ]
    },
    {
      "cell_type": "code",
      "metadata": {
        "colab": {
          "base_uri": "https://localhost:8080/"
        },
        "id": "o82cjPl4sWpA",
        "outputId": "7bb6a795-0903-41d5-9196-0614d1f0c2d3"
      },
      "source": [
        "# 取出 Cabin 中的第一個字母，如果為缺漏值，則以 NoCabin 表示\r\n",
        "df_data['Cabin'] = df_data['Cabin'].apply( lambda x:str(x)[0] if not pd.isnull(x) else 'NoCabin' )\r\n",
        "df_data['Cabin'].unique()"
      ],
      "execution_count": null,
      "outputs": [
        {
          "output_type": "execute_result",
          "data": {
            "text/plain": [
              "array(['NoCabin', 'C', 'E', 'G', 'D', 'A', 'B', 'F', 'T'], dtype=object)"
            ]
          },
          "metadata": {
            "tags": []
          },
          "execution_count": 24
        }
      ]
    },
    {
      "cell_type": "code",
      "metadata": {
        "id": "YMOble-ai0RA"
      },
      "source": [
        "label = LabelEncoder()\r\n",
        "df_data['FareBin_Encode'] = label.fit_transform(df_data['FareBin'])\r\n"
      ],
      "execution_count": null,
      "outputs": []
    },
    {
      "cell_type": "markdown",
      "metadata": {
        "id": "8FbYSJUxsgEI"
      },
      "source": [
        "### 登船港口(Embarked)\r\n",
        "填補次數最多的港口 'S'\r\n"
      ]
    },
    {
      "cell_type": "code",
      "metadata": {
        "colab": {
          "base_uri": "https://localhost:8080/"
        },
        "id": "6L1VEZx5smVd",
        "outputId": "4b7fdaf8-001d-4618-e1f9-7b4d18fde32f"
      },
      "source": [
        "# 計算 Embarked 欄位中每個相異值的次數\r\n",
        "display( df_data['Embarked'].value_counts() )\r\n",
        "# 填補 Embarked 欄位的缺漏值\r\n",
        "df_data['Embarked'].fillna( 'S', inplace=True )\r\n"
      ],
      "execution_count": null,
      "outputs": [
        {
          "output_type": "display_data",
          "data": {
            "text/plain": [
              "S    914\n",
              "C    270\n",
              "Q    123\n",
              "Name: Embarked, dtype: int64"
            ]
          },
          "metadata": {
            "tags": []
          }
        }
      ]
    },
    {
      "cell_type": "code",
      "metadata": {
        "colab": {
          "base_uri": "https://localhost:8080/"
        },
        "id": "mZPZ365es54q",
        "outputId": "9ed9f2f1-54b0-4ac7-fa63-3379eb0c6558"
      },
      "source": [
        "#最後我們檢查還有沒有遺失值\r\n",
        "df_data.isna().sum()"
      ],
      "execution_count": null,
      "outputs": [
        {
          "output_type": "execute_result",
          "data": {
            "text/plain": [
              "PassengerId         0\n",
              "Survived          418\n",
              "Pclass              0\n",
              "Sex                 0\n",
              "Age                 0\n",
              "SibSp               0\n",
              "Parch               0\n",
              "Cabin               0\n",
              "Embarked            0\n",
              "FareBin             0\n",
              "Title               0\n",
              "Ticket_info         0\n",
              "Has_Age             0\n",
              "is_Age_17           0\n",
              "FareBin_Encode      0\n",
              "dtype: int64"
            ]
          },
          "metadata": {
            "tags": []
          },
          "execution_count": 27
        }
      ]
    },
    {
      "cell_type": "markdown",
      "metadata": {
        "id": "d4wsG3dQt8L-"
      },
      "source": [
        "## 編碼"
      ]
    },
    {
      "cell_type": "markdown",
      "metadata": {
        "id": "bbtwThLsi1KA"
      },
      "source": [
        "### 票價(Fare)\r\n",
        "我們把剛剛分好的票價做標籤編碼\r\n"
      ]
    },
    {
      "cell_type": "code",
      "metadata": {
        "id": "vwWzXYHsuJUp"
      },
      "source": [
        "label = LabelEncoder()\r\n",
        "df_data['FareBin_Encode'] = label.fit_transform(df_data['FareBin'])\r\n"
      ],
      "execution_count": null,
      "outputs": []
    },
    {
      "cell_type": "markdown",
      "metadata": {
        "id": "hRQZZkjauzkU"
      },
      "source": [
        "### 登船港口(Embarked) \r\n",
        "\r\n"
      ]
    },
    {
      "cell_type": "code",
      "metadata": {
        "id": "VcWZ2ZCBu8bt"
      },
      "source": [
        "# OneHot Encoding\r\n",
        "OneHot_Embarked = pd.get_dummies( df_data.Embarked, prefix='Embarked' )\r\n",
        "\r\n",
        "# 合併 Embarked 編碼後的欄位\r\n",
        "df_data = pd.concat( [ df_data, OneHot_Embarked ], axis=1 )\r\n",
        "df_data.drop( 'Embarked', axis=1, inplace=True )"
      ],
      "execution_count": null,
      "outputs": []
    },
    {
      "cell_type": "markdown",
      "metadata": {
        "id": "RcvIBBlhvBN8"
      },
      "source": [
        "### 性別(Sex)"
      ]
    },
    {
      "cell_type": "code",
      "metadata": {
        "id": "-ND27ELqvFiW"
      },
      "source": [
        "# Label Encoding\r\n",
        "Sex_mapping = { 'male':0, 'female':1 }\r\n",
        "df_data[ 'Sex' ] = df_data.Sex.map( Sex_mapping )"
      ],
      "execution_count": null,
      "outputs": []
    },
    {
      "cell_type": "markdown",
      "metadata": {
        "id": "Sll13PHhvLPS"
      },
      "source": [
        "#拆分Train和Test"
      ]
    },
    {
      "cell_type": "markdown",
      "metadata": {
        "id": "N3dLkG8UvTWb"
      },
      "source": [
        "先來看看我們特徵工程完的資料"
      ]
    },
    {
      "cell_type": "code",
      "metadata": {
        "colab": {
          "base_uri": "https://localhost:8080/",
          "height": 219
        },
        "id": "ZxhvQ2ZOvRrS",
        "outputId": "0e1b429c-79f2-4841-c249-dc1f953f9fa4"
      },
      "source": [
        "# 檢視特徵工程後的資料\r\n",
        "print( f'Shape of data after feature engineering = {df_data.shape}' )\r\n",
        "df_data.head()"
      ],
      "execution_count": null,
      "outputs": [
        {
          "output_type": "stream",
          "text": [
            "Shape of data after feature engineering = (1309, 17)\n"
          ],
          "name": "stdout"
        },
        {
          "output_type": "execute_result",
          "data": {
            "text/html": [
              "<div>\n",
              "<style scoped>\n",
              "    .dataframe tbody tr th:only-of-type {\n",
              "        vertical-align: middle;\n",
              "    }\n",
              "\n",
              "    .dataframe tbody tr th {\n",
              "        vertical-align: top;\n",
              "    }\n",
              "\n",
              "    .dataframe thead th {\n",
              "        text-align: right;\n",
              "    }\n",
              "</style>\n",
              "<table border=\"1\" class=\"dataframe\">\n",
              "  <thead>\n",
              "    <tr style=\"text-align: right;\">\n",
              "      <th></th>\n",
              "      <th>PassengerId</th>\n",
              "      <th>Survived</th>\n",
              "      <th>Pclass</th>\n",
              "      <th>Sex</th>\n",
              "      <th>Age</th>\n",
              "      <th>SibSp</th>\n",
              "      <th>Parch</th>\n",
              "      <th>Cabin</th>\n",
              "      <th>FareBin</th>\n",
              "      <th>Title</th>\n",
              "      <th>Ticket_info</th>\n",
              "      <th>Has_Age</th>\n",
              "      <th>is_Age_17</th>\n",
              "      <th>FareBin_Encode</th>\n",
              "      <th>Embarked_C</th>\n",
              "      <th>Embarked_Q</th>\n",
              "      <th>Embarked_S</th>\n",
              "    </tr>\n",
              "  </thead>\n",
              "  <tbody>\n",
              "    <tr>\n",
              "      <th>0</th>\n",
              "      <td>1</td>\n",
              "      <td>0.0</td>\n",
              "      <td>3</td>\n",
              "      <td>0</td>\n",
              "      <td>22.0</td>\n",
              "      <td>1</td>\n",
              "      <td>0</td>\n",
              "      <td>NoCabin</td>\n",
              "      <td>(-0.001, 7.854]</td>\n",
              "      <td>Mr</td>\n",
              "      <td>A5</td>\n",
              "      <td>1</td>\n",
              "      <td>0</td>\n",
              "      <td>0</td>\n",
              "      <td>0</td>\n",
              "      <td>0</td>\n",
              "      <td>1</td>\n",
              "    </tr>\n",
              "    <tr>\n",
              "      <th>1</th>\n",
              "      <td>2</td>\n",
              "      <td>1.0</td>\n",
              "      <td>1</td>\n",
              "      <td>1</td>\n",
              "      <td>38.0</td>\n",
              "      <td>1</td>\n",
              "      <td>0</td>\n",
              "      <td>C</td>\n",
              "      <td>(41.579, 512.329]</td>\n",
              "      <td>Mrs</td>\n",
              "      <td>PC</td>\n",
              "      <td>1</td>\n",
              "      <td>0</td>\n",
              "      <td>4</td>\n",
              "      <td>1</td>\n",
              "      <td>0</td>\n",
              "      <td>0</td>\n",
              "    </tr>\n",
              "    <tr>\n",
              "      <th>2</th>\n",
              "      <td>3</td>\n",
              "      <td>1.0</td>\n",
              "      <td>3</td>\n",
              "      <td>1</td>\n",
              "      <td>26.0</td>\n",
              "      <td>0</td>\n",
              "      <td>0</td>\n",
              "      <td>NoCabin</td>\n",
              "      <td>(7.854, 10.5]</td>\n",
              "      <td>Miss</td>\n",
              "      <td>STONO2</td>\n",
              "      <td>1</td>\n",
              "      <td>0</td>\n",
              "      <td>1</td>\n",
              "      <td>0</td>\n",
              "      <td>0</td>\n",
              "      <td>1</td>\n",
              "    </tr>\n",
              "    <tr>\n",
              "      <th>3</th>\n",
              "      <td>4</td>\n",
              "      <td>1.0</td>\n",
              "      <td>1</td>\n",
              "      <td>1</td>\n",
              "      <td>35.0</td>\n",
              "      <td>1</td>\n",
              "      <td>0</td>\n",
              "      <td>C</td>\n",
              "      <td>(41.579, 512.329]</td>\n",
              "      <td>Mrs</td>\n",
              "      <td>X</td>\n",
              "      <td>1</td>\n",
              "      <td>0</td>\n",
              "      <td>4</td>\n",
              "      <td>0</td>\n",
              "      <td>0</td>\n",
              "      <td>1</td>\n",
              "    </tr>\n",
              "    <tr>\n",
              "      <th>4</th>\n",
              "      <td>5</td>\n",
              "      <td>0.0</td>\n",
              "      <td>3</td>\n",
              "      <td>0</td>\n",
              "      <td>35.0</td>\n",
              "      <td>0</td>\n",
              "      <td>0</td>\n",
              "      <td>NoCabin</td>\n",
              "      <td>(7.854, 10.5]</td>\n",
              "      <td>Mr</td>\n",
              "      <td>X</td>\n",
              "      <td>1</td>\n",
              "      <td>0</td>\n",
              "      <td>1</td>\n",
              "      <td>0</td>\n",
              "      <td>0</td>\n",
              "      <td>1</td>\n",
              "    </tr>\n",
              "  </tbody>\n",
              "</table>\n",
              "</div>"
            ],
            "text/plain": [
              "   PassengerId  Survived  Pclass  ...  Embarked_C  Embarked_Q  Embarked_S\n",
              "0            1       0.0       3  ...           0           0           1\n",
              "1            2       1.0       1  ...           1           0           0\n",
              "2            3       1.0       3  ...           0           0           1\n",
              "3            4       1.0       1  ...           0           0           1\n",
              "4            5       0.0       3  ...           0           0           1\n",
              "\n",
              "[5 rows x 17 columns]"
            ]
          },
          "metadata": {
            "tags": []
          },
          "execution_count": 31
        }
      ]
    },
    {
      "cell_type": "code",
      "metadata": {
        "id": "MToVWmTOvb47"
      },
      "source": [
        "#刪除FareBin\r\n",
        "df_data.drop(['FareBin'],axis=1,inplace=True)"
      ],
      "execution_count": null,
      "outputs": []
    },
    {
      "cell_type": "code",
      "metadata": {
        "colab": {
          "base_uri": "https://localhost:8080/",
          "height": 219
        },
        "id": "4h5AkuZjZ2qg",
        "outputId": "73a85e98-ac63-410e-e9f7-cb22e19e834a"
      },
      "source": [
        "print( f'Shape of data after feature engineering = {df_data.shape}' )\r\n",
        "df_data.head()"
      ],
      "execution_count": null,
      "outputs": [
        {
          "output_type": "stream",
          "text": [
            "Shape of data after feature engineering = (1309, 16)\n"
          ],
          "name": "stdout"
        },
        {
          "output_type": "execute_result",
          "data": {
            "text/html": [
              "<div>\n",
              "<style scoped>\n",
              "    .dataframe tbody tr th:only-of-type {\n",
              "        vertical-align: middle;\n",
              "    }\n",
              "\n",
              "    .dataframe tbody tr th {\n",
              "        vertical-align: top;\n",
              "    }\n",
              "\n",
              "    .dataframe thead th {\n",
              "        text-align: right;\n",
              "    }\n",
              "</style>\n",
              "<table border=\"1\" class=\"dataframe\">\n",
              "  <thead>\n",
              "    <tr style=\"text-align: right;\">\n",
              "      <th></th>\n",
              "      <th>PassengerId</th>\n",
              "      <th>Survived</th>\n",
              "      <th>Pclass</th>\n",
              "      <th>Sex</th>\n",
              "      <th>Age</th>\n",
              "      <th>SibSp</th>\n",
              "      <th>Parch</th>\n",
              "      <th>Cabin</th>\n",
              "      <th>Title</th>\n",
              "      <th>Ticket_info</th>\n",
              "      <th>Has_Age</th>\n",
              "      <th>is_Age_17</th>\n",
              "      <th>FareBin_Encode</th>\n",
              "      <th>Embarked_C</th>\n",
              "      <th>Embarked_Q</th>\n",
              "      <th>Embarked_S</th>\n",
              "    </tr>\n",
              "  </thead>\n",
              "  <tbody>\n",
              "    <tr>\n",
              "      <th>0</th>\n",
              "      <td>1</td>\n",
              "      <td>0.0</td>\n",
              "      <td>3</td>\n",
              "      <td>0</td>\n",
              "      <td>22.0</td>\n",
              "      <td>1</td>\n",
              "      <td>0</td>\n",
              "      <td>NoCabin</td>\n",
              "      <td>Mr</td>\n",
              "      <td>A5</td>\n",
              "      <td>1</td>\n",
              "      <td>0</td>\n",
              "      <td>0</td>\n",
              "      <td>0</td>\n",
              "      <td>0</td>\n",
              "      <td>1</td>\n",
              "    </tr>\n",
              "    <tr>\n",
              "      <th>1</th>\n",
              "      <td>2</td>\n",
              "      <td>1.0</td>\n",
              "      <td>1</td>\n",
              "      <td>1</td>\n",
              "      <td>38.0</td>\n",
              "      <td>1</td>\n",
              "      <td>0</td>\n",
              "      <td>C</td>\n",
              "      <td>Mrs</td>\n",
              "      <td>PC</td>\n",
              "      <td>1</td>\n",
              "      <td>0</td>\n",
              "      <td>4</td>\n",
              "      <td>1</td>\n",
              "      <td>0</td>\n",
              "      <td>0</td>\n",
              "    </tr>\n",
              "    <tr>\n",
              "      <th>2</th>\n",
              "      <td>3</td>\n",
              "      <td>1.0</td>\n",
              "      <td>3</td>\n",
              "      <td>1</td>\n",
              "      <td>26.0</td>\n",
              "      <td>0</td>\n",
              "      <td>0</td>\n",
              "      <td>NoCabin</td>\n",
              "      <td>Miss</td>\n",
              "      <td>STONO2</td>\n",
              "      <td>1</td>\n",
              "      <td>0</td>\n",
              "      <td>1</td>\n",
              "      <td>0</td>\n",
              "      <td>0</td>\n",
              "      <td>1</td>\n",
              "    </tr>\n",
              "    <tr>\n",
              "      <th>3</th>\n",
              "      <td>4</td>\n",
              "      <td>1.0</td>\n",
              "      <td>1</td>\n",
              "      <td>1</td>\n",
              "      <td>35.0</td>\n",
              "      <td>1</td>\n",
              "      <td>0</td>\n",
              "      <td>C</td>\n",
              "      <td>Mrs</td>\n",
              "      <td>X</td>\n",
              "      <td>1</td>\n",
              "      <td>0</td>\n",
              "      <td>4</td>\n",
              "      <td>0</td>\n",
              "      <td>0</td>\n",
              "      <td>1</td>\n",
              "    </tr>\n",
              "    <tr>\n",
              "      <th>4</th>\n",
              "      <td>5</td>\n",
              "      <td>0.0</td>\n",
              "      <td>3</td>\n",
              "      <td>0</td>\n",
              "      <td>35.0</td>\n",
              "      <td>0</td>\n",
              "      <td>0</td>\n",
              "      <td>NoCabin</td>\n",
              "      <td>Mr</td>\n",
              "      <td>X</td>\n",
              "      <td>1</td>\n",
              "      <td>0</td>\n",
              "      <td>1</td>\n",
              "      <td>0</td>\n",
              "      <td>0</td>\n",
              "      <td>1</td>\n",
              "    </tr>\n",
              "  </tbody>\n",
              "</table>\n",
              "</div>"
            ],
            "text/plain": [
              "   PassengerId  Survived  Pclass  ...  Embarked_C  Embarked_Q  Embarked_S\n",
              "0            1       0.0       3  ...           0           0           1\n",
              "1            2       1.0       1  ...           1           0           0\n",
              "2            3       1.0       3  ...           0           0           1\n",
              "3            4       1.0       1  ...           0           0           1\n",
              "4            5       0.0       3  ...           0           0           1\n",
              "\n",
              "[5 rows x 16 columns]"
            ]
          },
          "metadata": {
            "tags": []
          },
          "execution_count": 33
        }
      ]
    },
    {
      "cell_type": "markdown",
      "metadata": {
        "id": "ZP3icyXYvpy1"
      },
      "source": [
        "將類別形態的欄位轉成整數"
      ]
    },
    {
      "cell_type": "code",
      "metadata": {
        "colab": {
          "base_uri": "https://localhost:8080/",
          "height": 202
        },
        "id": "WsW5d1EEvnMo",
        "outputId": "038ead6c-51eb-467c-b5e1-3ff01d6fe7f0"
      },
      "source": [
        "for col in ['Title','Ticket_info','Cabin']:\r\n",
        "    df_data[col] = df_data[col].astype('category').cat.codes\r\n",
        "\r\n",
        "df_data.head()\r\n"
      ],
      "execution_count": null,
      "outputs": [
        {
          "output_type": "execute_result",
          "data": {
            "text/html": [
              "<div>\n",
              "<style scoped>\n",
              "    .dataframe tbody tr th:only-of-type {\n",
              "        vertical-align: middle;\n",
              "    }\n",
              "\n",
              "    .dataframe tbody tr th {\n",
              "        vertical-align: top;\n",
              "    }\n",
              "\n",
              "    .dataframe thead th {\n",
              "        text-align: right;\n",
              "    }\n",
              "</style>\n",
              "<table border=\"1\" class=\"dataframe\">\n",
              "  <thead>\n",
              "    <tr style=\"text-align: right;\">\n",
              "      <th></th>\n",
              "      <th>PassengerId</th>\n",
              "      <th>Survived</th>\n",
              "      <th>Pclass</th>\n",
              "      <th>Sex</th>\n",
              "      <th>Age</th>\n",
              "      <th>SibSp</th>\n",
              "      <th>Parch</th>\n",
              "      <th>Cabin</th>\n",
              "      <th>Title</th>\n",
              "      <th>Ticket_info</th>\n",
              "      <th>Has_Age</th>\n",
              "      <th>is_Age_17</th>\n",
              "      <th>FareBin_Encode</th>\n",
              "      <th>Embarked_C</th>\n",
              "      <th>Embarked_Q</th>\n",
              "      <th>Embarked_S</th>\n",
              "    </tr>\n",
              "  </thead>\n",
              "  <tbody>\n",
              "    <tr>\n",
              "      <th>0</th>\n",
              "      <td>1</td>\n",
              "      <td>0.0</td>\n",
              "      <td>3</td>\n",
              "      <td>0</td>\n",
              "      <td>22.0</td>\n",
              "      <td>1</td>\n",
              "      <td>0</td>\n",
              "      <td>7</td>\n",
              "      <td>2</td>\n",
              "      <td>2</td>\n",
              "      <td>1</td>\n",
              "      <td>0</td>\n",
              "      <td>0</td>\n",
              "      <td>0</td>\n",
              "      <td>0</td>\n",
              "      <td>1</td>\n",
              "    </tr>\n",
              "    <tr>\n",
              "      <th>1</th>\n",
              "      <td>2</td>\n",
              "      <td>1.0</td>\n",
              "      <td>1</td>\n",
              "      <td>1</td>\n",
              "      <td>38.0</td>\n",
              "      <td>1</td>\n",
              "      <td>0</td>\n",
              "      <td>2</td>\n",
              "      <td>3</td>\n",
              "      <td>14</td>\n",
              "      <td>1</td>\n",
              "      <td>0</td>\n",
              "      <td>4</td>\n",
              "      <td>1</td>\n",
              "      <td>0</td>\n",
              "      <td>0</td>\n",
              "    </tr>\n",
              "    <tr>\n",
              "      <th>2</th>\n",
              "      <td>3</td>\n",
              "      <td>1.0</td>\n",
              "      <td>3</td>\n",
              "      <td>1</td>\n",
              "      <td>26.0</td>\n",
              "      <td>0</td>\n",
              "      <td>0</td>\n",
              "      <td>7</td>\n",
              "      <td>1</td>\n",
              "      <td>31</td>\n",
              "      <td>1</td>\n",
              "      <td>0</td>\n",
              "      <td>1</td>\n",
              "      <td>0</td>\n",
              "      <td>0</td>\n",
              "      <td>1</td>\n",
              "    </tr>\n",
              "    <tr>\n",
              "      <th>3</th>\n",
              "      <td>4</td>\n",
              "      <td>1.0</td>\n",
              "      <td>1</td>\n",
              "      <td>1</td>\n",
              "      <td>35.0</td>\n",
              "      <td>1</td>\n",
              "      <td>0</td>\n",
              "      <td>2</td>\n",
              "      <td>3</td>\n",
              "      <td>36</td>\n",
              "      <td>1</td>\n",
              "      <td>0</td>\n",
              "      <td>4</td>\n",
              "      <td>0</td>\n",
              "      <td>0</td>\n",
              "      <td>1</td>\n",
              "    </tr>\n",
              "    <tr>\n",
              "      <th>4</th>\n",
              "      <td>5</td>\n",
              "      <td>0.0</td>\n",
              "      <td>3</td>\n",
              "      <td>0</td>\n",
              "      <td>35.0</td>\n",
              "      <td>0</td>\n",
              "      <td>0</td>\n",
              "      <td>7</td>\n",
              "      <td>2</td>\n",
              "      <td>36</td>\n",
              "      <td>1</td>\n",
              "      <td>0</td>\n",
              "      <td>1</td>\n",
              "      <td>0</td>\n",
              "      <td>0</td>\n",
              "      <td>1</td>\n",
              "    </tr>\n",
              "  </tbody>\n",
              "</table>\n",
              "</div>"
            ],
            "text/plain": [
              "   PassengerId  Survived  Pclass  ...  Embarked_C  Embarked_Q  Embarked_S\n",
              "0            1       0.0       3  ...           0           0           1\n",
              "1            2       1.0       1  ...           1           0           0\n",
              "2            3       1.0       3  ...           0           0           1\n",
              "3            4       1.0       1  ...           0           0           1\n",
              "4            5       0.0       3  ...           0           0           1\n",
              "\n",
              "[5 rows x 16 columns]"
            ]
          },
          "metadata": {
            "tags": []
          },
          "execution_count": 34
        }
      ]
    },
    {
      "cell_type": "markdown",
      "metadata": {
        "id": "viCr8zVYvwic"
      },
      "source": [
        "然後產生Train和Test\r\n"
      ]
    },
    {
      "cell_type": "code",
      "metadata": {
        "colab": {
          "base_uri": "https://localhost:8080/"
        },
        "id": "59Q0Z_UIvzSQ",
        "outputId": "37425533-2dc8-4091-8b36-f9ef52092b56"
      },
      "source": [
        "# 產生訓練集和測試集\r\n",
        "train = df_data[ pd.notnull(df_data.Survived) ]\r\n",
        "test = df_data[ pd.isnull(df_data.Survived) ]\r\n",
        "\r\n",
        "# 訓練集刪除 PassengerId 欄位；\r\n",
        "# 測試集刪除 PassengerId 與 Survived 欄位\r\n",
        "train.drop( ['PassengerId'], axis=1, inplace=True )\r\n",
        "test.drop( ['PassengerId','Survived'], axis=1, inplace=True )\r\n",
        "\r\n",
        "# 將測試集中的標籤欄位 Survived 單獨拆出\r\n",
        "y_train = train.Survived\r\n",
        "X_train = train.drop( ['Survived'], axis=1 )\r\n",
        "\r\n",
        "print( f'Shape of X_train = {X_train.shape}' )\r\n",
        "print( f'Shape of y_train = {y_train.shape}' )\r\n",
        "print( f'Shape of test = {test.shape}' )"
      ],
      "execution_count": null,
      "outputs": [
        {
          "output_type": "stream",
          "text": [
            "Shape of X_train = (891, 14)\n",
            "Shape of y_train = (891,)\n",
            "Shape of test = (418, 14)\n"
          ],
          "name": "stdout"
        }
      ]
    },
    {
      "cell_type": "markdown",
      "metadata": {
        "id": "66RTyJFhv215"
      },
      "source": [
        "## 特徵重要性"
      ]
    },
    {
      "cell_type": "code",
      "metadata": {
        "colab": {
          "base_uri": "https://localhost:8080/",
          "height": 478
        },
        "id": "SaKSb-Tgv6YF",
        "outputId": "855310db-8d76-4fa4-be3f-67c50f913ec8"
      },
      "source": [
        "# 建立決策樹模型\r\n",
        "DTC = RandomForestClassifier( )\r\n",
        "# 自變數、應變數進行擬合\r\n",
        "DTC.fit( X_train, y_train )\r\n",
        "\r\n",
        "# 排序特徵重要性(由大到小)\r\n",
        "col_names = X_train.columns\r\n",
        "importances = DTC.feature_importances_\r\n",
        "Feature_Rank = pd.DataFrame( { 'Feature_Name':col_names, 'Importance':importances } )\r\n",
        "Feature_Rank.sort_values( by='Importance', ascending=False, inplace=True ) \r\n",
        "Feature_Rank"
      ],
      "execution_count": null,
      "outputs": [
        {
          "output_type": "execute_result",
          "data": {
            "text/html": [
              "<div>\n",
              "<style scoped>\n",
              "    .dataframe tbody tr th:only-of-type {\n",
              "        vertical-align: middle;\n",
              "    }\n",
              "\n",
              "    .dataframe tbody tr th {\n",
              "        vertical-align: top;\n",
              "    }\n",
              "\n",
              "    .dataframe thead th {\n",
              "        text-align: right;\n",
              "    }\n",
              "</style>\n",
              "<table border=\"1\" class=\"dataframe\">\n",
              "  <thead>\n",
              "    <tr style=\"text-align: right;\">\n",
              "      <th></th>\n",
              "      <th>Feature_Name</th>\n",
              "      <th>Importance</th>\n",
              "    </tr>\n",
              "  </thead>\n",
              "  <tbody>\n",
              "    <tr>\n",
              "      <th>2</th>\n",
              "      <td>Age</td>\n",
              "      <td>0.232598</td>\n",
              "    </tr>\n",
              "    <tr>\n",
              "      <th>1</th>\n",
              "      <td>Sex</td>\n",
              "      <td>0.195832</td>\n",
              "    </tr>\n",
              "    <tr>\n",
              "      <th>6</th>\n",
              "      <td>Title</td>\n",
              "      <td>0.114528</td>\n",
              "    </tr>\n",
              "    <tr>\n",
              "      <th>10</th>\n",
              "      <td>FareBin_Encode</td>\n",
              "      <td>0.089606</td>\n",
              "    </tr>\n",
              "    <tr>\n",
              "      <th>0</th>\n",
              "      <td>Pclass</td>\n",
              "      <td>0.078991</td>\n",
              "    </tr>\n",
              "    <tr>\n",
              "      <th>5</th>\n",
              "      <td>Cabin</td>\n",
              "      <td>0.074326</td>\n",
              "    </tr>\n",
              "    <tr>\n",
              "      <th>7</th>\n",
              "      <td>Ticket_info</td>\n",
              "      <td>0.055302</td>\n",
              "    </tr>\n",
              "    <tr>\n",
              "      <th>3</th>\n",
              "      <td>SibSp</td>\n",
              "      <td>0.051230</td>\n",
              "    </tr>\n",
              "    <tr>\n",
              "      <th>4</th>\n",
              "      <td>Parch</td>\n",
              "      <td>0.035840</td>\n",
              "    </tr>\n",
              "    <tr>\n",
              "      <th>13</th>\n",
              "      <td>Embarked_S</td>\n",
              "      <td>0.017889</td>\n",
              "    </tr>\n",
              "    <tr>\n",
              "      <th>8</th>\n",
              "      <td>Has_Age</td>\n",
              "      <td>0.015852</td>\n",
              "    </tr>\n",
              "    <tr>\n",
              "      <th>11</th>\n",
              "      <td>Embarked_C</td>\n",
              "      <td>0.015602</td>\n",
              "    </tr>\n",
              "    <tr>\n",
              "      <th>9</th>\n",
              "      <td>is_Age_17</td>\n",
              "      <td>0.011920</td>\n",
              "    </tr>\n",
              "    <tr>\n",
              "      <th>12</th>\n",
              "      <td>Embarked_Q</td>\n",
              "      <td>0.010484</td>\n",
              "    </tr>\n",
              "  </tbody>\n",
              "</table>\n",
              "</div>"
            ],
            "text/plain": [
              "      Feature_Name  Importance\n",
              "2              Age    0.232598\n",
              "1              Sex    0.195832\n",
              "6            Title    0.114528\n",
              "10  FareBin_Encode    0.089606\n",
              "0           Pclass    0.078991\n",
              "5            Cabin    0.074326\n",
              "7      Ticket_info    0.055302\n",
              "3            SibSp    0.051230\n",
              "4            Parch    0.035840\n",
              "13      Embarked_S    0.017889\n",
              "8          Has_Age    0.015852\n",
              "11      Embarked_C    0.015602\n",
              "9        is_Age_17    0.011920\n",
              "12      Embarked_Q    0.010484"
            ]
          },
          "metadata": {
            "tags": []
          },
          "execution_count": 36
        }
      ]
    },
    {
      "cell_type": "code",
      "metadata": {
        "colab": {
          "base_uri": "https://localhost:8080/"
        },
        "id": "bgbSAledwKIX",
        "outputId": "9bd4c876-9130-4b2f-f781-c3020c03399f"
      },
      "source": [
        "from sklearn.feature_selection import SelectKBest\r\n",
        "from sklearn.feature_selection import chi2\r\n",
        "#apply SelectKBest class to extract top 5 best features\r\n",
        "bestfeatures = SelectKBest(score_func=chi2, k=10)\r\n",
        "fit = bestfeatures.fit(X_train,y_train)\r\n",
        "dfscores = pd.DataFrame(fit.scores_)\r\n",
        "dfcolumns = pd.DataFrame(X_train.columns)\r\n",
        "#concat two dataframes for better visualization \r\n",
        "featureScores = pd.concat([dfcolumns,dfscores],axis=1)\r\n",
        "featureScores.columns = ['Specs','Score']  #naming the dataframe columns\r\n",
        "print(featureScores.nlargest(10,'Score'))  #print 5 best features"
      ],
      "execution_count": null,
      "outputs": [
        {
          "output_type": "stream",
          "text": [
            "             Specs       Score\n",
            "1              Sex  170.348127\n",
            "10  FareBin_Encode   89.947140\n",
            "5            Cabin   55.444176\n",
            "2              Age   40.110302\n",
            "0           Pclass   30.873699\n",
            "11      Embarked_C   20.464401\n",
            "9        is_Age_17   11.861523\n",
            "4            Parch   10.097499\n",
            "13      Embarked_S    5.489205\n",
            "3            SibSp    2.581865\n"
          ],
          "name": "stdout"
        }
      ]
    },
    {
      "cell_type": "code",
      "metadata": {
        "id": "HpmcWuT7wKYV"
      },
      "source": [
        ""
      ],
      "execution_count": null,
      "outputs": []
    },
    {
      "cell_type": "markdown",
      "metadata": {
        "id": "svCf9I7_wYyU"
      },
      "source": [
        "## 隨機森林"
      ]
    },
    {
      "cell_type": "code",
      "metadata": {
        "id": "nykidNvKwbHp"
      },
      "source": [
        "# 隨機森林參數：\r\n",
        "# n_estimators: 樹的數量(default=10)。\r\n",
        "# min_samples_leaf: 最終葉節點最少樣本數(default=1)；\r\n",
        "#                   當樣本不大時，可不設定使用預設，若樣本數量非常大時，則推薦增加此參數值。\r\n",
        "# min_samples_split:節點再劃分時所需的最小樣本數(default=2)；\r\n",
        "#                   當樣本不大時，可不設定使用預設，若樣本數量非常大時，則推薦增加此參數值。\r\n",
        "# oob_score: 是否採用袋外樣本(out-of-bag samples)來評估模型的準確度(default=False)。\r\n",
        "# n_job：同時可以使用的處理器\r\n",
        "RFC = RandomForestClassifier( n_estimators = 15 ,\r\n",
        "                              min_samples_split = 20,\r\n",
        "                              min_samples_leaf = 1,\r\n",
        "                              oob_score = True,\r\n",
        "                              random_state = 1,\r\n",
        "                              n_jobs = -1 ) "
      ],
      "execution_count": null,
      "outputs": []
    },
    {
      "cell_type": "code",
      "metadata": {
        "colab": {
          "base_uri": "https://localhost:8080/"
        },
        "id": "hBxqutwbw1qD",
        "outputId": "1c79b32b-afcb-49d2-ad3b-c3910d834a98"
      },
      "source": [
        "RFC_2 = RandomForestClassifier( n_estimators = 16,\r\n",
        "                                min_samples_split = 20,\r\n",
        "                                min_samples_leaf = 1,\r\n",
        "                                oob_score = True,\r\n",
        "                                random_state = 1,\r\n",
        "                                n_jobs = -1 ) \r\n",
        "\r\n",
        "# 篩選部份特徵欄位餵入模型進行訓練\r\n",
        "SelectedFeatures = ['Sex','Pclass','FareBin_Encode','is_Age_17']\r\n",
        "RFC_2.fit( X_train[SelectedFeatures], y_train )\r\n",
        "y_pred = RFC_2.predict( X_train[SelectedFeatures])\r\n",
        "\r\n",
        "print( f'Selected Features :\\n   {SelectedFeatures}' )\r\n",
        "print( 'oob_score = {:.6f}'.format(RFC_2.oob_score_) )"
      ],
      "execution_count": null,
      "outputs": [
        {
          "output_type": "stream",
          "text": [
            "Selected Features :\n",
            "   ['Sex', 'Pclass', 'FareBin_Encode', 'is_Age_17']\n",
            "oob_score = 0.812570\n"
          ],
          "name": "stdout"
        }
      ]
    },
    {
      "cell_type": "code",
      "metadata": {
        "colab": {
          "base_uri": "https://localhost:8080/",
          "height": 433
        },
        "id": "FJNIxr8pw9sX",
        "outputId": "a0d28648-9f7b-4346-c110-8cad8be8a441"
      },
      "source": [
        "Test_pred_rfc2 = RFC_2.predict(test[SelectedFeatures])\r\n",
        "\r\n",
        "submit['Survived'] = Test_pred_rfc2.astype(int)\r\n",
        "submit.to_csv('Titanic_RandomForest_rfc2.csv',index =False)\r\n",
        "print('預測結果：')\r\n",
        "submit"
      ],
      "execution_count": null,
      "outputs": [
        {
          "output_type": "stream",
          "text": [
            "預測結果：\n"
          ],
          "name": "stdout"
        },
        {
          "output_type": "execute_result",
          "data": {
            "text/html": [
              "<div>\n",
              "<style scoped>\n",
              "    .dataframe tbody tr th:only-of-type {\n",
              "        vertical-align: middle;\n",
              "    }\n",
              "\n",
              "    .dataframe tbody tr th {\n",
              "        vertical-align: top;\n",
              "    }\n",
              "\n",
              "    .dataframe thead th {\n",
              "        text-align: right;\n",
              "    }\n",
              "</style>\n",
              "<table border=\"1\" class=\"dataframe\">\n",
              "  <thead>\n",
              "    <tr style=\"text-align: right;\">\n",
              "      <th></th>\n",
              "      <th>PassengerId</th>\n",
              "      <th>Survived</th>\n",
              "    </tr>\n",
              "  </thead>\n",
              "  <tbody>\n",
              "    <tr>\n",
              "      <th>0</th>\n",
              "      <td>892</td>\n",
              "      <td>0</td>\n",
              "    </tr>\n",
              "    <tr>\n",
              "      <th>1</th>\n",
              "      <td>893</td>\n",
              "      <td>1</td>\n",
              "    </tr>\n",
              "    <tr>\n",
              "      <th>2</th>\n",
              "      <td>894</td>\n",
              "      <td>0</td>\n",
              "    </tr>\n",
              "    <tr>\n",
              "      <th>3</th>\n",
              "      <td>895</td>\n",
              "      <td>0</td>\n",
              "    </tr>\n",
              "    <tr>\n",
              "      <th>4</th>\n",
              "      <td>896</td>\n",
              "      <td>0</td>\n",
              "    </tr>\n",
              "    <tr>\n",
              "      <th>...</th>\n",
              "      <td>...</td>\n",
              "      <td>...</td>\n",
              "    </tr>\n",
              "    <tr>\n",
              "      <th>413</th>\n",
              "      <td>1305</td>\n",
              "      <td>0</td>\n",
              "    </tr>\n",
              "    <tr>\n",
              "      <th>414</th>\n",
              "      <td>1306</td>\n",
              "      <td>1</td>\n",
              "    </tr>\n",
              "    <tr>\n",
              "      <th>415</th>\n",
              "      <td>1307</td>\n",
              "      <td>0</td>\n",
              "    </tr>\n",
              "    <tr>\n",
              "      <th>416</th>\n",
              "      <td>1308</td>\n",
              "      <td>0</td>\n",
              "    </tr>\n",
              "    <tr>\n",
              "      <th>417</th>\n",
              "      <td>1309</td>\n",
              "      <td>0</td>\n",
              "    </tr>\n",
              "  </tbody>\n",
              "</table>\n",
              "<p>418 rows × 2 columns</p>\n",
              "</div>"
            ],
            "text/plain": [
              "     PassengerId  Survived\n",
              "0            892         0\n",
              "1            893         1\n",
              "2            894         0\n",
              "3            895         0\n",
              "4            896         0\n",
              "..           ...       ...\n",
              "413         1305         0\n",
              "414         1306         1\n",
              "415         1307         0\n",
              "416         1308         0\n",
              "417         1309         0\n",
              "\n",
              "[418 rows x 2 columns]"
            ]
          },
          "metadata": {
            "tags": []
          },
          "execution_count": 40
        }
      ]
    },
    {
      "cell_type": "markdown",
      "metadata": {
        "id": "NnfUsmSMxIAb"
      },
      "source": [
        "上傳結果是0.77751"
      ]
    },
    {
      "cell_type": "code",
      "metadata": {
        "id": "PPxBKHIO5ZF9",
        "colab": {
          "base_uri": "https://localhost:8080/"
        },
        "outputId": "f10ce840-d766-4f10-f3fd-b64bb8aa8915"
      },
      "source": [
        "#其他index\r\n",
        "from sklearn.metrics import confusion_matrix\r\n",
        "from sklearn.metrics import classification_report\r\n",
        "cm = confusion_matrix(y_train,y_pred)\r\n",
        "print(cm)\r\n",
        "print(classification_report(y_train,y_pred))\r\n"
      ],
      "execution_count": null,
      "outputs": [
        {
          "output_type": "stream",
          "text": [
            "[[517  32]\n",
            " [122 220]]\n",
            "              precision    recall  f1-score   support\n",
            "\n",
            "         0.0       0.81      0.94      0.87       549\n",
            "         1.0       0.87      0.64      0.74       342\n",
            "\n",
            "    accuracy                           0.83       891\n",
            "   macro avg       0.84      0.79      0.81       891\n",
            "weighted avg       0.83      0.83      0.82       891\n",
            "\n"
          ],
          "name": "stdout"
        }
      ]
    },
    {
      "cell_type": "markdown",
      "metadata": {
        "id": "vex2idY-Lvyh"
      },
      "source": [
        "我們用iphone faceID當作例子\r\n",
        "\r\n",
        "True/False是預測的正確與否,Positive/Negetive是預測的方向\r\n",
        "\r\n",
        "TP(True Positive)是你的臉，iphone也預測是你的臉,也順利解鎖了，也就是所謂的『正確的正向預測』\r\n",
        "\r\n",
        "FN(False Negative)是你的臉，不過iphone沒有認出來沒有解鎖『錯誤的負向預測』\r\n",
        "\r\n",
        "TN(True Negative)不是你的臉，iphone也知道不是你的臉，最後沒有開『正確的負向預測』\r\n",
        "\r\n",
        "FP(False Positive)不是你的臉，iphone卻預測是你的臉，結果解鎖『錯誤的正向預測』"
      ]
    },
    {
      "cell_type": "markdown",
      "metadata": {
        "id": "HgF0f5lR5mYd"
      },
      "source": [
        "所以回到前面那個混淆矩陣，\r\n",
        "\r\n",
        "\r\n",
        "\r\n",
        "517個人是真的死而且我們預測死的，\r\n",
        "\r\n",
        "32個人是真的死不過我們預測他活了，\r\n",
        "\r\n",
        "122個人是真活了不過我們預測死了，\r\n",
        "\r\n",
        "220個是真活了而且我們也預測活了，\r\n"
      ]
    },
    {
      "cell_type": "markdown",
      "metadata": {
        "id": "JdSoMs736UKC"
      },
      "source": [
        "Precision(精確度）= 全部我們預測活的220+32=252中 220我們預測對了所以是220/252 =87%\r\n",
        "\r\n",
        "recall(召回率) = 真的活的342人中220我們預測對了所以召回率是220/342=64%\r\n",
        "\r\n",
        "F1-score = 2 * Precision * Recall / (Precision+recall) 上面兩個的調和平均 算是一個簡略的指標來看模型的表現\r\n",
        "\r\n",
        "accuracy(準確率) =預測對的除以總數 = 517+220/891 =82.7%\r\n",
        "\r\n",
        "macroavg(巨集平均) =所有類別的指標除以類別數 = 81%+87%/2 =84%\r\n",
        "\r\n",
        "weighted avg(加權平均) \r\n"
      ]
    },
    {
      "cell_type": "markdown",
      "metadata": {
        "id": "EyVhxnkI24yI"
      },
      "source": [
        "###  gridsearchcv\r\n"
      ]
    },
    {
      "cell_type": "code",
      "metadata": {
        "id": "T6vdpCzo3GyC",
        "colab": {
          "base_uri": "https://localhost:8080/"
        },
        "outputId": "ce71af93-73e0-49c6-aee9-8f9ca5f7f888"
      },
      "source": [
        "from sklearn.model_selection import GridSearchCV\r\n",
        "rfc=RandomForestClassifier(random_state=42)\r\n",
        "param_grid = { \r\n",
        "    'n_estimators': [16,250,1000],#樹的數量\r\n",
        "    'max_features': ['auto', 'sqrt', 'log2'],#單個決策樹使用特徵的最大數量\r\n",
        "    'max_depth' : [4,5,6,7,8],#最大深度\r\n",
        "    'criterion' :['gini', 'entropy']#不同的標準\r\n",
        "}\r\n",
        "CV_rfc = GridSearchCV(estimator=rfc, param_grid=param_grid, cv= 5)\r\n",
        "CV_rfc.fit(X_train[SelectedFeatures], y_train)\r\n"
      ],
      "execution_count": null,
      "outputs": [
        {
          "output_type": "execute_result",
          "data": {
            "text/plain": [
              "GridSearchCV(cv=5, error_score=nan,\n",
              "             estimator=RandomForestClassifier(bootstrap=True, ccp_alpha=0.0,\n",
              "                                              class_weight=None,\n",
              "                                              criterion='gini', max_depth=None,\n",
              "                                              max_features='auto',\n",
              "                                              max_leaf_nodes=None,\n",
              "                                              max_samples=None,\n",
              "                                              min_impurity_decrease=0.0,\n",
              "                                              min_impurity_split=None,\n",
              "                                              min_samples_leaf=1,\n",
              "                                              min_samples_split=2,\n",
              "                                              min_weight_fraction_leaf=0.0,\n",
              "                                              n_estimators=100, n_jobs=None,\n",
              "                                              oob_score=False, random_state=42,\n",
              "                                              verbose=0, warm_start=False),\n",
              "             iid='deprecated', n_jobs=None,\n",
              "             param_grid={'criterion': ['gini', 'entropy'],\n",
              "                         'max_depth': [4, 5, 6, 7, 8],\n",
              "                         'max_features': ['auto', 'sqrt', 'log2'],\n",
              "                         'n_estimators': [16, 250, 1000]},\n",
              "             pre_dispatch='2*n_jobs', refit=True, return_train_score=False,\n",
              "             scoring=None, verbose=0)"
            ]
          },
          "metadata": {
            "tags": []
          },
          "execution_count": 42
        }
      ]
    },
    {
      "cell_type": "code",
      "metadata": {
        "id": "Vt70w8494OzC",
        "colab": {
          "base_uri": "https://localhost:8080/"
        },
        "outputId": "7bb42975-8a60-4f3f-8275-4bf5d65ee445"
      },
      "source": [
        "CV_rfc.best_params_\r\n"
      ],
      "execution_count": null,
      "outputs": [
        {
          "output_type": "execute_result",
          "data": {
            "text/plain": [
              "{'criterion': 'gini',\n",
              " 'max_depth': 6,\n",
              " 'max_features': 'auto',\n",
              " 'n_estimators': 16}"
            ]
          },
          "metadata": {
            "tags": []
          },
          "execution_count": 43
        }
      ]
    },
    {
      "cell_type": "code",
      "metadata": {
        "id": "CmaD9FKi4V7R",
        "colab": {
          "base_uri": "https://localhost:8080/"
        },
        "outputId": "32ce5114-32d4-4b73-a0b6-94e35eba2e05"
      },
      "source": [
        "rfc1=RandomForestClassifier(criterion= 'gini',\r\n",
        " max_depth= 6,\r\n",
        " max_features= 'auto',\r\n",
        " n_estimators=16)\r\n",
        "rfc1.fit(X_train[SelectedFeatures],y_train)\r\n"
      ],
      "execution_count": null,
      "outputs": [
        {
          "output_type": "execute_result",
          "data": {
            "text/plain": [
              "RandomForestClassifier(bootstrap=True, ccp_alpha=0.0, class_weight=None,\n",
              "                       criterion='gini', max_depth=6, max_features='auto',\n",
              "                       max_leaf_nodes=None, max_samples=None,\n",
              "                       min_impurity_decrease=0.0, min_impurity_split=None,\n",
              "                       min_samples_leaf=1, min_samples_split=2,\n",
              "                       min_weight_fraction_leaf=0.0, n_estimators=16,\n",
              "                       n_jobs=None, oob_score=False, random_state=None,\n",
              "                       verbose=0, warm_start=False)"
            ]
          },
          "metadata": {
            "tags": []
          },
          "execution_count": 44
        }
      ]
    },
    {
      "cell_type": "code",
      "metadata": {
        "id": "wnq8dSz34hXD",
        "colab": {
          "base_uri": "https://localhost:8080/"
        },
        "outputId": "9d2aff8a-e325-4e3f-fc62-7c88d7a5f8dc"
      },
      "source": [
        "rfc1.score(X_train[SelectedFeatures],y_train)\r\n"
      ],
      "execution_count": null,
      "outputs": [
        {
          "output_type": "execute_result",
          "data": {
            "text/plain": [
              "0.8282828282828283"
            ]
          },
          "metadata": {
            "tags": []
          },
          "execution_count": 45
        }
      ]
    },
    {
      "cell_type": "code",
      "metadata": {
        "id": "hmHQzodf4luU",
        "colab": {
          "base_uri": "https://localhost:8080/",
          "height": 433
        },
        "outputId": "c231aeac-0fc8-4f0e-f42f-6b6a35d25d52"
      },
      "source": [
        "Test_pred_rfc1 = rfc1.predict(test[SelectedFeatures])\r\n",
        "\r\n",
        "submit['Survived'] = Test_pred_rfc1.astype(int)\r\n",
        "submit.to_csv('Titanic_RandomForest_rfc1.csv',index =False)\r\n",
        "print('預測結果：')\r\n",
        "submit"
      ],
      "execution_count": null,
      "outputs": [
        {
          "output_type": "stream",
          "text": [
            "預測結果：\n"
          ],
          "name": "stdout"
        },
        {
          "output_type": "execute_result",
          "data": {
            "text/html": [
              "<div>\n",
              "<style scoped>\n",
              "    .dataframe tbody tr th:only-of-type {\n",
              "        vertical-align: middle;\n",
              "    }\n",
              "\n",
              "    .dataframe tbody tr th {\n",
              "        vertical-align: top;\n",
              "    }\n",
              "\n",
              "    .dataframe thead th {\n",
              "        text-align: right;\n",
              "    }\n",
              "</style>\n",
              "<table border=\"1\" class=\"dataframe\">\n",
              "  <thead>\n",
              "    <tr style=\"text-align: right;\">\n",
              "      <th></th>\n",
              "      <th>PassengerId</th>\n",
              "      <th>Survived</th>\n",
              "    </tr>\n",
              "  </thead>\n",
              "  <tbody>\n",
              "    <tr>\n",
              "      <th>0</th>\n",
              "      <td>892</td>\n",
              "      <td>0</td>\n",
              "    </tr>\n",
              "    <tr>\n",
              "      <th>1</th>\n",
              "      <td>893</td>\n",
              "      <td>1</td>\n",
              "    </tr>\n",
              "    <tr>\n",
              "      <th>2</th>\n",
              "      <td>894</td>\n",
              "      <td>0</td>\n",
              "    </tr>\n",
              "    <tr>\n",
              "      <th>3</th>\n",
              "      <td>895</td>\n",
              "      <td>0</td>\n",
              "    </tr>\n",
              "    <tr>\n",
              "      <th>4</th>\n",
              "      <td>896</td>\n",
              "      <td>1</td>\n",
              "    </tr>\n",
              "    <tr>\n",
              "      <th>...</th>\n",
              "      <td>...</td>\n",
              "      <td>...</td>\n",
              "    </tr>\n",
              "    <tr>\n",
              "      <th>413</th>\n",
              "      <td>1305</td>\n",
              "      <td>0</td>\n",
              "    </tr>\n",
              "    <tr>\n",
              "      <th>414</th>\n",
              "      <td>1306</td>\n",
              "      <td>1</td>\n",
              "    </tr>\n",
              "    <tr>\n",
              "      <th>415</th>\n",
              "      <td>1307</td>\n",
              "      <td>0</td>\n",
              "    </tr>\n",
              "    <tr>\n",
              "      <th>416</th>\n",
              "      <td>1308</td>\n",
              "      <td>0</td>\n",
              "    </tr>\n",
              "    <tr>\n",
              "      <th>417</th>\n",
              "      <td>1309</td>\n",
              "      <td>0</td>\n",
              "    </tr>\n",
              "  </tbody>\n",
              "</table>\n",
              "<p>418 rows × 2 columns</p>\n",
              "</div>"
            ],
            "text/plain": [
              "     PassengerId  Survived\n",
              "0            892         0\n",
              "1            893         1\n",
              "2            894         0\n",
              "3            895         0\n",
              "4            896         1\n",
              "..           ...       ...\n",
              "413         1305         0\n",
              "414         1306         1\n",
              "415         1307         0\n",
              "416         1308         0\n",
              "417         1309         0\n",
              "\n",
              "[418 rows x 2 columns]"
            ]
          },
          "metadata": {
            "tags": []
          },
          "execution_count": 48
        }
      ]
    },
    {
      "cell_type": "markdown",
      "metadata": {
        "id": "r965rN3p4t27"
      },
      "source": [
        "0.77272"
      ]
    },
    {
      "cell_type": "markdown",
      "metadata": {
        "id": "a9sxv6bX5I45"
      },
      "source": [
        "## XGBoost"
      ]
    },
    {
      "cell_type": "code",
      "metadata": {
        "id": "kaVhdq0F5Q8t"
      },
      "source": [
        "from xgboost import XGBClassifier\r\n",
        "\r\n",
        "xgbc = XGBClassifier(learning_rate=0.02,)\r\n"
      ],
      "execution_count": null,
      "outputs": []
    },
    {
      "cell_type": "code",
      "metadata": {
        "id": "HV-1cTB_Cmd6"
      },
      "source": [
        "params = {\r\n",
        "       \r\n",
        "        'min_child_weight': [1, 5, 10],#最小葉子節點樣本權重和\r\n",
        "        'gamma': [0.5, 1, 1.5, 2, 5],#Gamma指定了節點分裂所需的最小損失函數下降值。\r\n",
        "        'subsample': [0.6, 0.8, 1.0],#控制對於每棵樹，隨機采樣的比例\r\n",
        "        'colsample_bytree': [0.6, 0.8, 1.0],#控制每棵隨機采樣的列數的占比(每一列是一個特征)。\r\n",
        "        'max_depth': [3, 4, 5]#樹的最大深度\r\n",
        "       \r\n",
        "      }"
      ],
      "execution_count": null,
      "outputs": []
    },
    {
      "cell_type": "code",
      "metadata": {
        "id": "EzRMzZlxCnWm",
        "colab": {
          "base_uri": "https://localhost:8080/"
        },
        "outputId": "020416d4-1222-443d-cb89-df4bb25f719e"
      },
      "source": [
        "CV_xgb = GridSearchCV(estimator=xgbc, param_grid=params, cv= 5)\r\n",
        "CV_xgb.fit(X_train[SelectedFeatures], y_train)"
      ],
      "execution_count": null,
      "outputs": [
        {
          "output_type": "execute_result",
          "data": {
            "text/plain": [
              "GridSearchCV(cv=5, error_score=nan,\n",
              "             estimator=XGBClassifier(base_score=0.5, booster='gbtree',\n",
              "                                     colsample_bylevel=1, colsample_bynode=1,\n",
              "                                     colsample_bytree=1, gamma=0,\n",
              "                                     learning_rate=0.02, max_delta_step=0,\n",
              "                                     max_depth=3, min_child_weight=1,\n",
              "                                     missing=None, n_estimators=100, n_jobs=1,\n",
              "                                     nthread=None, objective='binary:logistic',\n",
              "                                     random_state=0, reg_alpha=0, reg_lambda=1,\n",
              "                                     scale_pos_weight=1, seed=None, silent=None,\n",
              "                                     subsample=1, verbosity=1),\n",
              "             iid='deprecated', n_jobs=None,\n",
              "             param_grid={'colsample_bytree': [0.6, 0.8, 1.0],\n",
              "                         'gamma': [0.5, 1, 1.5, 2, 5], 'max_depth': [3, 4, 5],\n",
              "                         'min_child_weight': [1, 5, 10],\n",
              "                         'subsample': [0.6, 0.8, 1.0]},\n",
              "             pre_dispatch='2*n_jobs', refit=True, return_train_score=False,\n",
              "             scoring=None, verbose=0)"
            ]
          },
          "metadata": {
            "tags": []
          },
          "execution_count": 51
        }
      ]
    },
    {
      "cell_type": "code",
      "metadata": {
        "id": "CAEz700ACoMM",
        "colab": {
          "base_uri": "https://localhost:8080/"
        },
        "outputId": "8ba4651d-81da-4c85-9d71-354c54c2ef5d"
      },
      "source": [
        "CV_xgb.best_params_\r\n"
      ],
      "execution_count": null,
      "outputs": [
        {
          "output_type": "execute_result",
          "data": {
            "text/plain": [
              "{'colsample_bytree': 1.0,\n",
              " 'gamma': 0.5,\n",
              " 'max_depth': 5,\n",
              " 'min_child_weight': 1,\n",
              " 'subsample': 0.8}"
            ]
          },
          "metadata": {
            "tags": []
          },
          "execution_count": 52
        }
      ]
    },
    {
      "cell_type": "code",
      "metadata": {
        "id": "7MguP_JDCpEZ",
        "colab": {
          "base_uri": "https://localhost:8080/"
        },
        "outputId": "21194394-931e-414c-d8dd-ebd350d51b66"
      },
      "source": [
        "xgb1=XGBClassifier(colsample_bytree= 1.0,\r\n",
        " gamma= 0.5,\r\n",
        " max_depth= 5,\r\n",
        " min_child_weight= 1,\r\n",
        " subsample= 0.8)\r\n",
        "xgb1.fit(X_train[SelectedFeatures],y_train)"
      ],
      "execution_count": null,
      "outputs": [
        {
          "output_type": "execute_result",
          "data": {
            "text/plain": [
              "XGBClassifier(base_score=0.5, booster='gbtree', colsample_bylevel=1,\n",
              "              colsample_bynode=1, colsample_bytree=1.0, gamma=0.5,\n",
              "              learning_rate=0.1, max_delta_step=0, max_depth=5,\n",
              "              min_child_weight=1, missing=None, n_estimators=100, n_jobs=1,\n",
              "              nthread=None, objective='binary:logistic', random_state=0,\n",
              "              reg_alpha=0, reg_lambda=1, scale_pos_weight=1, seed=None,\n",
              "              silent=None, subsample=0.8, verbosity=1)"
            ]
          },
          "metadata": {
            "tags": []
          },
          "execution_count": 53
        }
      ]
    },
    {
      "cell_type": "code",
      "metadata": {
        "id": "eRAXEHfwfShs",
        "colab": {
          "base_uri": "https://localhost:8080/"
        },
        "outputId": "da30af13-b1c1-4935-8325-7500cd5d3679"
      },
      "source": [
        "xgb1.score(X_train[SelectedFeatures],y_train)"
      ],
      "execution_count": null,
      "outputs": [
        {
          "output_type": "execute_result",
          "data": {
            "text/plain": [
              "0.8271604938271605"
            ]
          },
          "metadata": {
            "tags": []
          },
          "execution_count": 54
        }
      ]
    },
    {
      "cell_type": "code",
      "metadata": {
        "id": "vcHMYu_KCtL1",
        "colab": {
          "base_uri": "https://localhost:8080/",
          "height": 433
        },
        "outputId": "3347fca8-8e7e-4354-f9b9-caf1e4e48966"
      },
      "source": [
        "XGB_pred = xgb1.predict(test[SelectedFeatures])\r\n",
        "\r\n",
        "submit['Survived'] = XGB_pred.astype(int)\r\n",
        "submit.to_csv('Titanic_RandomForest_XGB.csv',index =False)\r\n",
        "print('預測結果：')\r\n",
        "submit"
      ],
      "execution_count": null,
      "outputs": [
        {
          "output_type": "stream",
          "text": [
            "預測結果：\n"
          ],
          "name": "stdout"
        },
        {
          "output_type": "execute_result",
          "data": {
            "text/html": [
              "<div>\n",
              "<style scoped>\n",
              "    .dataframe tbody tr th:only-of-type {\n",
              "        vertical-align: middle;\n",
              "    }\n",
              "\n",
              "    .dataframe tbody tr th {\n",
              "        vertical-align: top;\n",
              "    }\n",
              "\n",
              "    .dataframe thead th {\n",
              "        text-align: right;\n",
              "    }\n",
              "</style>\n",
              "<table border=\"1\" class=\"dataframe\">\n",
              "  <thead>\n",
              "    <tr style=\"text-align: right;\">\n",
              "      <th></th>\n",
              "      <th>PassengerId</th>\n",
              "      <th>Survived</th>\n",
              "    </tr>\n",
              "  </thead>\n",
              "  <tbody>\n",
              "    <tr>\n",
              "      <th>0</th>\n",
              "      <td>892</td>\n",
              "      <td>0</td>\n",
              "    </tr>\n",
              "    <tr>\n",
              "      <th>1</th>\n",
              "      <td>893</td>\n",
              "      <td>1</td>\n",
              "    </tr>\n",
              "    <tr>\n",
              "      <th>2</th>\n",
              "      <td>894</td>\n",
              "      <td>0</td>\n",
              "    </tr>\n",
              "    <tr>\n",
              "      <th>3</th>\n",
              "      <td>895</td>\n",
              "      <td>0</td>\n",
              "    </tr>\n",
              "    <tr>\n",
              "      <th>4</th>\n",
              "      <td>896</td>\n",
              "      <td>0</td>\n",
              "    </tr>\n",
              "    <tr>\n",
              "      <th>...</th>\n",
              "      <td>...</td>\n",
              "      <td>...</td>\n",
              "    </tr>\n",
              "    <tr>\n",
              "      <th>413</th>\n",
              "      <td>1305</td>\n",
              "      <td>0</td>\n",
              "    </tr>\n",
              "    <tr>\n",
              "      <th>414</th>\n",
              "      <td>1306</td>\n",
              "      <td>1</td>\n",
              "    </tr>\n",
              "    <tr>\n",
              "      <th>415</th>\n",
              "      <td>1307</td>\n",
              "      <td>0</td>\n",
              "    </tr>\n",
              "    <tr>\n",
              "      <th>416</th>\n",
              "      <td>1308</td>\n",
              "      <td>0</td>\n",
              "    </tr>\n",
              "    <tr>\n",
              "      <th>417</th>\n",
              "      <td>1309</td>\n",
              "      <td>0</td>\n",
              "    </tr>\n",
              "  </tbody>\n",
              "</table>\n",
              "<p>418 rows × 2 columns</p>\n",
              "</div>"
            ],
            "text/plain": [
              "     PassengerId  Survived\n",
              "0            892         0\n",
              "1            893         1\n",
              "2            894         0\n",
              "3            895         0\n",
              "4            896         0\n",
              "..           ...       ...\n",
              "413         1305         0\n",
              "414         1306         1\n",
              "415         1307         0\n",
              "416         1308         0\n",
              "417         1309         0\n",
              "\n",
              "[418 rows x 2 columns]"
            ]
          },
          "metadata": {
            "tags": []
          },
          "execution_count": 56
        }
      ]
    },
    {
      "cell_type": "markdown",
      "metadata": {
        "id": "c05QnORZDJI6"
      },
      "source": [
        "0.77272"
      ]
    },
    {
      "cell_type": "markdown",
      "metadata": {
        "id": "1XWbR1bJDjlV"
      },
      "source": [
        "## LogisticRegression"
      ]
    },
    {
      "cell_type": "code",
      "metadata": {
        "id": "Eq-7B9bfELNe"
      },
      "source": [
        "clf = LogisticRegression()\r\n"
      ],
      "execution_count": null,
      "outputs": []
    },
    {
      "cell_type": "code",
      "metadata": {
        "id": "_G_dOm6dEOjK"
      },
      "source": [
        "params_LR ={'penalty': ['l1', 'l2'],'C':[0.001,.009,0.01,.09,1,5,10,25]}\r\n",
        "\r\n"
      ],
      "execution_count": null,
      "outputs": []
    },
    {
      "cell_type": "code",
      "metadata": {
        "id": "Sv93nefkE1Q_"
      },
      "source": [
        "CV_LR = GridSearchCV(estimator=clf, param_grid=params_LR, cv= 5)\r\n",
        "CV_LR.fit(X_train[SelectedFeatures], y_train)"
      ],
      "execution_count": null,
      "outputs": []
    },
    {
      "cell_type": "markdown",
      "metadata": {
        "id": "w-Qxp5W_FR2Z"
      },
      "source": [
        "penalty：懲罰項 C：正則化係數λ的倒數"
      ]
    },
    {
      "cell_type": "code",
      "metadata": {
        "id": "R8aabZNuFCp7"
      },
      "source": [
        "CV_LR.best_params_\r\n"
      ],
      "execution_count": null,
      "outputs": []
    },
    {
      "cell_type": "code",
      "metadata": {
        "id": "QXya4Y8AFDvc"
      },
      "source": [
        "LR1 = LogisticRegression(C=5,penalty='l2')\r\n",
        "LR1.fit(X_train[SelectedFeatures], y_train)\r\n"
      ],
      "execution_count": null,
      "outputs": []
    },
    {
      "cell_type": "code",
      "metadata": {
        "id": "KvIjRikPFx-t"
      },
      "source": [
        "LR1.score(X_train[SelectedFeatures], y_train)"
      ],
      "execution_count": null,
      "outputs": []
    },
    {
      "cell_type": "code",
      "metadata": {
        "id": "_vjIzt6cGe-M"
      },
      "source": [
        "LR1_pred = LR1.predict(Test[SelectedFeatures])\r\n",
        "\r\n",
        "submit['Survived'] = LR1_pred.astype(int)\r\n",
        "submit.to_csv('Titanic_RandomForest_LR1.csv',index =False)\r\n",
        "print('預測結果：')\r\n",
        "submit"
      ],
      "execution_count": null,
      "outputs": []
    },
    {
      "cell_type": "code",
      "metadata": {
        "id": "WmaY5RKJGpUF"
      },
      "source": [
        "0.77511"
      ],
      "execution_count": null,
      "outputs": []
    }
  ]
}